{
 "cells": [
  {
   "cell_type": "markdown",
   "id": "b75e3484",
   "metadata": {},
   "source": [
    "# Machine Learning Model Construction for Single Cell RNA-Seq Clustering Parameter Evaluation Results"
   ]
  },
  {
   "cell_type": "markdown",
   "id": "a7b94a47",
   "metadata": {},
   "source": [
    "## Method"
   ]
  },
  {
   "cell_type": "markdown",
   "id": "15293a01",
   "metadata": {},
   "source": [
    "Tabula Muris Droplet, Tabula Muris Spike and Zhengmix datasets were downloaded using R/Bioconductor. Datasets are preprocessed using **scran**. For each dataset, *Shared Nearest Neighbour* based graph construction and graph clustering using 3 popular algorithms, Walktrap, Louvain and Leiden algorithms from **igraph** package.\n",
    "SNN graphs for each dataset with *number of neighbours* parameter from 1 to 50, Highly Variant Genes as 500, 1000, 1500 and 2000 were constructed. *DenoisePCA* function from scran package is used for PCA. Adjusted Rand Index used for clustering comparison with cell labels. Clusterings with ARI higher than 0.65 are labelled as accepted."
   ]
  },
  {
   "cell_type": "markdown",
   "id": "64907ab5",
   "metadata": {},
   "source": [
    "### Applying Machine Learning Algorithms to build a model and show importances of parameters"
   ]
  },
  {
   "cell_type": "markdown",
   "id": "b7ac4226",
   "metadata": {},
   "source": [
    "#### Required Packages"
   ]
  },
  {
   "cell_type": "code",
   "execution_count": 4,
   "id": "79785fee",
   "metadata": {},
   "outputs": [],
   "source": [
    "import numpy as np\n",
    "import pandas as pd\n",
    "\n",
    "from lazypredict.Supervised import LazyClassifier\n",
    "from sklearn.model_selection import train_test_split\n",
    "\n",
    "import lightgbm\n",
    "from lightgbm import LGBMClassifier\n",
    "\n",
    "import matplotlib.pyplot as plt\n",
    "from sklearn.linear_model import LogisticRegression\n",
    "from sklearn.metrics import confusion_matrix, accuracy_score, mean_squared_error, r2_score, roc_auc_score, roc_curve, classification_report\n",
    "from sklearn.model_selection import train_test_split, GridSearchCV, cross_val_score\n",
    "\n",
    "from catboost import CatBoostClassifier, Pool"
   ]
  },
  {
   "cell_type": "markdown",
   "id": "b1f01c07",
   "metadata": {},
   "source": [
    "#### Data Import (Preprocessed using R)"
   ]
  },
  {
   "cell_type": "code",
   "execution_count": 5,
   "id": "471704ea",
   "metadata": {},
   "outputs": [],
   "source": [
    "ari_results = pd.read_csv(\"encoded_all_results_w_ari.txt\" , sep = \"\\t\")"
   ]
  },
  {
   "cell_type": "code",
   "execution_count": 3,
   "id": "d884cf31",
   "metadata": {},
   "outputs": [
    {
     "data": {
      "text/html": [
       "<div>\n",
       "<style scoped>\n",
       "    .dataframe tbody tr th:only-of-type {\n",
       "        vertical-align: middle;\n",
       "    }\n",
       "\n",
       "    .dataframe tbody tr th {\n",
       "        vertical-align: top;\n",
       "    }\n",
       "\n",
       "    .dataframe thead th {\n",
       "        text-align: right;\n",
       "    }\n",
       "</style>\n",
       "<table border=\"1\" class=\"dataframe\">\n",
       "  <thead>\n",
       "    <tr style=\"text-align: right;\">\n",
       "      <th></th>\n",
       "      <th>Number_of_Neighbours</th>\n",
       "      <th>Number_of_PCs</th>\n",
       "      <th>Number_of_Cells</th>\n",
       "      <th>Number_of_HVGs</th>\n",
       "      <th>AlgorithmLeiden</th>\n",
       "      <th>AlgorithmLouvain</th>\n",
       "      <th>AlgorithmWalktrap</th>\n",
       "      <th>Exp_TypeDroplet</th>\n",
       "      <th>acceptable_ari</th>\n",
       "    </tr>\n",
       "  </thead>\n",
       "  <tbody>\n",
       "    <tr>\n",
       "      <th>4789</th>\n",
       "      <td>40</td>\n",
       "      <td>30</td>\n",
       "      <td>11248</td>\n",
       "      <td>2000</td>\n",
       "      <td>0</td>\n",
       "      <td>1</td>\n",
       "      <td>0</td>\n",
       "      <td>1</td>\n",
       "      <td>0</td>\n",
       "    </tr>\n",
       "    <tr>\n",
       "      <th>18437</th>\n",
       "      <td>38</td>\n",
       "      <td>6</td>\n",
       "      <td>3994</td>\n",
       "      <td>1500</td>\n",
       "      <td>0</td>\n",
       "      <td>0</td>\n",
       "      <td>1</td>\n",
       "      <td>1</td>\n",
       "      <td>1</td>\n",
       "    </tr>\n",
       "    <tr>\n",
       "      <th>2786</th>\n",
       "      <td>37</td>\n",
       "      <td>9</td>\n",
       "      <td>3652</td>\n",
       "      <td>500</td>\n",
       "      <td>0</td>\n",
       "      <td>1</td>\n",
       "      <td>0</td>\n",
       "      <td>1</td>\n",
       "      <td>1</td>\n",
       "    </tr>\n",
       "    <tr>\n",
       "      <th>18676</th>\n",
       "      <td>27</td>\n",
       "      <td>7</td>\n",
       "      <td>6498</td>\n",
       "      <td>500</td>\n",
       "      <td>0</td>\n",
       "      <td>1</td>\n",
       "      <td>0</td>\n",
       "      <td>1</td>\n",
       "      <td>0</td>\n",
       "    </tr>\n",
       "    <tr>\n",
       "      <th>6046</th>\n",
       "      <td>47</td>\n",
       "      <td>15</td>\n",
       "      <td>2500</td>\n",
       "      <td>1500</td>\n",
       "      <td>1</td>\n",
       "      <td>0</td>\n",
       "      <td>0</td>\n",
       "      <td>1</td>\n",
       "      <td>1</td>\n",
       "    </tr>\n",
       "  </tbody>\n",
       "</table>\n",
       "</div>"
      ],
      "text/plain": [
       "       Number_of_Neighbours  Number_of_PCs  Number_of_Cells  Number_of_HVGs  \\\n",
       "4789                     40             30            11248            2000   \n",
       "18437                    38              6             3994            1500   \n",
       "2786                     37              9             3652             500   \n",
       "18676                    27              7             6498             500   \n",
       "6046                     47             15             2500            1500   \n",
       "\n",
       "       AlgorithmLeiden  AlgorithmLouvain  AlgorithmWalktrap  Exp_TypeDroplet  \\\n",
       "4789                 0                 1                  0                1   \n",
       "18437                0                 0                  1                1   \n",
       "2786                 0                 1                  0                1   \n",
       "18676                0                 1                  0                1   \n",
       "6046                 1                 0                  0                1   \n",
       "\n",
       "       acceptable_ari  \n",
       "4789                0  \n",
       "18437               1  \n",
       "2786                1  \n",
       "18676               0  \n",
       "6046                1  "
      ]
     },
     "execution_count": 3,
     "metadata": {},
     "output_type": "execute_result"
    }
   ],
   "source": [
    "ari_results.sample(n = 5)"
   ]
  },
  {
   "cell_type": "code",
   "execution_count": 3,
   "id": "c5d44df8",
   "metadata": {
    "scrolled": false
   },
   "outputs": [
    {
     "data": {
      "text/html": [
       "<div>\n",
       "<style scoped>\n",
       "    .dataframe tbody tr th:only-of-type {\n",
       "        vertical-align: middle;\n",
       "    }\n",
       "\n",
       "    .dataframe tbody tr th {\n",
       "        vertical-align: top;\n",
       "    }\n",
       "\n",
       "    .dataframe thead th {\n",
       "        text-align: right;\n",
       "    }\n",
       "</style>\n",
       "<table border=\"1\" class=\"dataframe\">\n",
       "  <thead>\n",
       "    <tr style=\"text-align: right;\">\n",
       "      <th></th>\n",
       "      <th>Number_of_Neighbours</th>\n",
       "      <th>Number_of_PCs</th>\n",
       "      <th>Number_of_Cells</th>\n",
       "      <th>Number_of_HVGs</th>\n",
       "      <th>AlgorithmLeiden</th>\n",
       "      <th>AlgorithmLouvain</th>\n",
       "      <th>AlgorithmWalktrap</th>\n",
       "      <th>Exp_TypeDroplet</th>\n",
       "      <th>acceptable_ari</th>\n",
       "    </tr>\n",
       "  </thead>\n",
       "  <tbody>\n",
       "    <tr>\n",
       "      <th>0</th>\n",
       "      <td>1</td>\n",
       "      <td>15</td>\n",
       "      <td>2500</td>\n",
       "      <td>500</td>\n",
       "      <td>0</td>\n",
       "      <td>0</td>\n",
       "      <td>1</td>\n",
       "      <td>1</td>\n",
       "      <td>0</td>\n",
       "    </tr>\n",
       "    <tr>\n",
       "      <th>1</th>\n",
       "      <td>2</td>\n",
       "      <td>15</td>\n",
       "      <td>2500</td>\n",
       "      <td>500</td>\n",
       "      <td>0</td>\n",
       "      <td>0</td>\n",
       "      <td>1</td>\n",
       "      <td>1</td>\n",
       "      <td>0</td>\n",
       "    </tr>\n",
       "    <tr>\n",
       "      <th>2</th>\n",
       "      <td>3</td>\n",
       "      <td>15</td>\n",
       "      <td>2500</td>\n",
       "      <td>500</td>\n",
       "      <td>0</td>\n",
       "      <td>0</td>\n",
       "      <td>1</td>\n",
       "      <td>1</td>\n",
       "      <td>0</td>\n",
       "    </tr>\n",
       "    <tr>\n",
       "      <th>3</th>\n",
       "      <td>4</td>\n",
       "      <td>15</td>\n",
       "      <td>2500</td>\n",
       "      <td>500</td>\n",
       "      <td>0</td>\n",
       "      <td>0</td>\n",
       "      <td>1</td>\n",
       "      <td>1</td>\n",
       "      <td>0</td>\n",
       "    </tr>\n",
       "    <tr>\n",
       "      <th>4</th>\n",
       "      <td>5</td>\n",
       "      <td>15</td>\n",
       "      <td>2500</td>\n",
       "      <td>500</td>\n",
       "      <td>0</td>\n",
       "      <td>0</td>\n",
       "      <td>1</td>\n",
       "      <td>1</td>\n",
       "      <td>0</td>\n",
       "    </tr>\n",
       "  </tbody>\n",
       "</table>\n",
       "</div>"
      ],
      "text/plain": [
       "   Number_of_Neighbours  Number_of_PCs  Number_of_Cells  Number_of_HVGs  \\\n",
       "0                     1             15             2500             500   \n",
       "1                     2             15             2500             500   \n",
       "2                     3             15             2500             500   \n",
       "3                     4             15             2500             500   \n",
       "4                     5             15             2500             500   \n",
       "\n",
       "   AlgorithmLeiden  AlgorithmLouvain  AlgorithmWalktrap  Exp_TypeDroplet  \\\n",
       "0                0                 0                  1                1   \n",
       "1                0                 0                  1                1   \n",
       "2                0                 0                  1                1   \n",
       "3                0                 0                  1                1   \n",
       "4                0                 0                  1                1   \n",
       "\n",
       "   acceptable_ari  \n",
       "0               0  \n",
       "1               0  \n",
       "2               0  \n",
       "3               0  \n",
       "4               0  "
      ]
     },
     "execution_count": 3,
     "metadata": {},
     "output_type": "execute_result"
    }
   ],
   "source": [
    "ari_results.head()"
   ]
  },
  {
   "cell_type": "code",
   "execution_count": 6,
   "id": "90c4ffbc",
   "metadata": {},
   "outputs": [],
   "source": [
    "ari_labels = ari_results[\"acceptable_ari\"]"
   ]
  },
  {
   "cell_type": "code",
   "execution_count": 7,
   "id": "cb21aae1",
   "metadata": {},
   "outputs": [],
   "source": [
    "ari_features = ari_results.drop([\"acceptable_ari\"] , axis = 1)"
   ]
  },
  {
   "cell_type": "code",
   "execution_count": 8,
   "id": "9ac23417",
   "metadata": {},
   "outputs": [],
   "source": [
    "X_train, X_test, y_train, y_test = train_test_split(ari_features, ari_labels ,test_size=.25,random_state = 8764)"
   ]
  },
  {
   "cell_type": "code",
   "execution_count": 9,
   "id": "dcb5de39",
   "metadata": {},
   "outputs": [
    {
     "data": {
      "text/plain": [
       "2781"
      ]
     },
     "execution_count": 9,
     "metadata": {},
     "output_type": "execute_result"
    }
   ],
   "source": [
    "y_train.sum()"
   ]
  },
  {
   "cell_type": "code",
   "execution_count": 10,
   "id": "3b4605c9",
   "metadata": {},
   "outputs": [
    {
     "data": {
      "text/plain": [
       "919"
      ]
     },
     "execution_count": 10,
     "metadata": {},
     "output_type": "execute_result"
    }
   ],
   "source": [
    "y_test.sum()"
   ]
  },
  {
   "cell_type": "markdown",
   "id": "d649154b",
   "metadata": {},
   "source": [
    "#### LazyClassifier Package is used to find the optimum algorithm"
   ]
  },
  {
   "cell_type": "code",
   "execution_count": 11,
   "id": "b1aab704",
   "metadata": {},
   "outputs": [],
   "source": [
    "clf = LazyClassifier(verbose=0,ignore_warnings=True, custom_metric=None)"
   ]
  },
  {
   "cell_type": "code",
   "execution_count": 10,
   "id": "304e6a19",
   "metadata": {},
   "outputs": [
    {
     "name": "stderr",
     "output_type": "stream",
     "text": [
      "100%|██████████| 29/29 [00:20<00:00,  1.44it/s]\n"
     ]
    }
   ],
   "source": [
    "models,predictions = clf.fit(X_train, X_test, y_train, y_test)"
   ]
  },
  {
   "cell_type": "code",
   "execution_count": 11,
   "id": "58cfcd71",
   "metadata": {
    "scrolled": true
   },
   "outputs": [
    {
     "name": "stdout",
     "output_type": "stream",
     "text": [
      "                               Accuracy  Balanced Accuracy  ROC AUC  F1 Score  \\\n",
      "Model                                                                           \n",
      "XGBClassifier                      0.97               0.96     0.96      0.97   \n",
      "LGBMClassifier                     0.97               0.96     0.96      0.97   \n",
      "BaggingClassifier                  0.97               0.95     0.95      0.97   \n",
      "RandomForestClassifier             0.97               0.95     0.95      0.97   \n",
      "ExtraTreesClassifier               0.97               0.95     0.95      0.97   \n",
      "DecisionTreeClassifier             0.96               0.94     0.94      0.96   \n",
      "ExtraTreeClassifier                0.94               0.91     0.91      0.94   \n",
      "KNeighborsClassifier               0.94               0.90     0.90      0.94   \n",
      "LabelPropagation                   0.94               0.89     0.89      0.94   \n",
      "LabelSpreading                     0.94               0.89     0.89      0.94   \n",
      "AdaBoostClassifier                 0.92               0.82     0.82      0.91   \n",
      "SVC                                0.88               0.75     0.75      0.87   \n",
      "NearestCentroid                    0.71               0.73     0.73      0.74   \n",
      "Perceptron                         0.77               0.72     0.72      0.78   \n",
      "GaussianNB                         0.82               0.63     0.63      0.80   \n",
      "BernoulliNB                        0.82               0.59     0.59      0.79   \n",
      "LinearDiscriminantAnalysis         0.82               0.59     0.59      0.79   \n",
      "PassiveAggressiveClassifier        0.69               0.59     0.59      0.71   \n",
      "LogisticRegression                 0.82               0.59     0.59      0.79   \n",
      "CalibratedClassifierCV             0.82               0.59     0.59      0.79   \n",
      "QuadraticDiscriminantAnalysis      0.82               0.59     0.59      0.79   \n",
      "LinearSVC                          0.82               0.56     0.56      0.77   \n",
      "RidgeClassifier                    0.81               0.53     0.53      0.75   \n",
      "RidgeClassifierCV                  0.81               0.53     0.53      0.75   \n",
      "DummyClassifier                    0.81               0.50     0.50      0.73   \n",
      "SGDClassifier                      0.81               0.50     0.50      0.73   \n",
      "\n",
      "                               Time Taken  \n",
      "Model                                      \n",
      "XGBClassifier                        0.21  \n",
      "LGBMClassifier                       0.09  \n",
      "BaggingClassifier                    0.11  \n",
      "RandomForestClassifier               0.49  \n",
      "ExtraTreesClassifier                 0.48  \n",
      "DecisionTreeClassifier               0.02  \n",
      "ExtraTreeClassifier                  0.02  \n",
      "KNeighborsClassifier                 0.18  \n",
      "LabelPropagation                     4.68  \n",
      "LabelSpreading                       7.07  \n",
      "AdaBoostClassifier                   0.27  \n",
      "SVC                                  5.10  \n",
      "NearestCentroid                      0.01  \n",
      "Perceptron                           0.02  \n",
      "GaussianNB                           0.02  \n",
      "BernoulliNB                          0.02  \n",
      "LinearDiscriminantAnalysis           0.15  \n",
      "PassiveAggressiveClassifier          0.02  \n",
      "LogisticRegression                   0.02  \n",
      "CalibratedClassifierCV               0.83  \n",
      "QuadraticDiscriminantAnalysis        0.02  \n",
      "LinearSVC                            0.21  \n",
      "RidgeClassifier                      0.03  \n",
      "RidgeClassifierCV                    0.02  \n",
      "DummyClassifier                      0.01  \n",
      "SGDClassifier                        0.05  \n"
     ]
    }
   ],
   "source": [
    "print(models)"
   ]
  },
  {
   "cell_type": "markdown",
   "id": "9473aa89",
   "metadata": {},
   "source": [
    "#### LightGBM is selected as optimum model. Another model with default parameters are also built."
   ]
  },
  {
   "cell_type": "code",
   "execution_count": 12,
   "id": "0dd6b539",
   "metadata": {},
   "outputs": [],
   "source": [
    "lgb_model = LGBMClassifier().fit(X_train, y_train)"
   ]
  },
  {
   "cell_type": "code",
   "execution_count": 13,
   "id": "4b86c6f2",
   "metadata": {},
   "outputs": [],
   "source": [
    "y_pred = lgb_model.predict(X_test)"
   ]
  },
  {
   "cell_type": "markdown",
   "id": "74edaf27",
   "metadata": {},
   "source": [
    "#### Feature Importance"
   ]
  },
  {
   "cell_type": "code",
   "execution_count": 14,
   "id": "4276f2bc",
   "metadata": {
    "scrolled": false
   },
   "outputs": [
    {
     "data": {
      "text/plain": [
       "<AxesSubplot:title={'center':'Feature importance'}, xlabel='Feature importance', ylabel='Features'>"
      ]
     },
     "execution_count": 14,
     "metadata": {},
     "output_type": "execute_result"
    },
    {
     "data": {
      "image/png": "[encoded data removed]",
      "text/plain": [
       "<Figure size 432x792 with 1 Axes>"
      ]
     },
     "metadata": {
      "needs_background": "light"
     },
     "output_type": "display_data"
    }
   ],
   "source": [
    "plt.rcParams[\"figure.figsize\"] = (6, 11)\n",
    "\n",
    "lightgbm.plot_importance(lgb_model, max_num_features = 60, height=.9)"
   ]
  },
  {
   "cell_type": "markdown",
   "id": "19d61a30",
   "metadata": {},
   "source": [
    "#### Logistic Regression"
   ]
  },
  {
   "cell_type": "code",
   "execution_count": 15,
   "id": "00048c2e",
   "metadata": {
    "scrolled": true
   },
   "outputs": [],
   "source": [
    "loj_model = LogisticRegression(solver = \"liblinear\").fit(X_train,y_train)"
   ]
  },
  {
   "cell_type": "code",
   "execution_count": 16,
   "id": "c846c2b4",
   "metadata": {},
   "outputs": [
    {
     "data": {
      "text/plain": [
       "array([-2.47970868])"
      ]
     },
     "execution_count": 16,
     "metadata": {},
     "output_type": "execute_result"
    }
   ],
   "source": [
    "loj_model.intercept_"
   ]
  },
  {
   "cell_type": "code",
   "execution_count": 17,
   "id": "eb76c257",
   "metadata": {},
   "outputs": [
    {
     "data": {
      "text/plain": [
       "array([[ 6.58663889e-02, -2.85197810e-02, -1.88582600e-04,\n",
       "         2.79818731e-06, -5.14732300e-01, -8.53688576e-01,\n",
       "        -1.11128780e+00,  1.65985717e+00]])"
      ]
     },
     "execution_count": 17,
     "metadata": {},
     "output_type": "execute_result"
    }
   ],
   "source": [
    "loj_model.coef_"
   ]
  },
  {
   "cell_type": "code",
   "execution_count": 18,
   "id": "209d1c94",
   "metadata": {},
   "outputs": [
    {
     "data": {
      "text/plain": [
       "array([0, 0, 0, 0, 0, 0, 0, 0, 0, 0], dtype=int64)"
      ]
     },
     "execution_count": 18,
     "metadata": {},
     "output_type": "execute_result"
    }
   ],
   "source": [
    "loj_model.predict(X_test)[0:10]"
   ]
  },
  {
   "cell_type": "code",
   "execution_count": 19,
   "id": "73b110b7",
   "metadata": {},
   "outputs": [],
   "source": [
    "y_pred = loj_model.predict(X_test)"
   ]
  },
  {
   "cell_type": "code",
   "execution_count": 20,
   "id": "7dfce091",
   "metadata": {},
   "outputs": [
    {
     "data": {
      "text/plain": [
       "array([[3846,  185],\n",
       "       [ 714,  205]], dtype=int64)"
      ]
     },
     "execution_count": 20,
     "metadata": {},
     "output_type": "execute_result"
    }
   ],
   "source": [
    "confusion_matrix(y_test, y_pred)"
   ]
  },
  {
   "cell_type": "code",
   "execution_count": 21,
   "id": "2fee2f16",
   "metadata": {},
   "outputs": [
    {
     "data": {
      "text/plain": [
       "0.8183838383838384"
      ]
     },
     "execution_count": 21,
     "metadata": {},
     "output_type": "execute_result"
    }
   ],
   "source": [
    "accuracy_score(y_test, y_pred)"
   ]
  },
  {
   "cell_type": "code",
   "execution_count": 22,
   "id": "9842157c",
   "metadata": {},
   "outputs": [
    {
     "name": "stdout",
     "output_type": "stream",
     "text": [
      "              precision    recall  f1-score   support\n",
      "\n",
      "           0       0.84      0.95      0.90      4031\n",
      "           1       0.53      0.22      0.31       919\n",
      "\n",
      "    accuracy                           0.82      4950\n",
      "   macro avg       0.68      0.59      0.60      4950\n",
      "weighted avg       0.78      0.82      0.79      4950\n",
      "\n"
     ]
    }
   ],
   "source": [
    "print(classification_report(y_test, y_pred))"
   ]
  },
  {
   "cell_type": "markdown",
   "id": "19bc269f",
   "metadata": {},
   "source": [
    "#### ROC Curve for Logistic Regression"
   ]
  },
  {
   "cell_type": "code",
   "execution_count": 23,
   "id": "5523b4b3",
   "metadata": {
    "scrolled": false
   },
   "outputs": [
    {
     "data": {
      "image/png": "[encoded data removed]",
      "text/plain": [
       "<Figure size 432x792 with 1 Axes>"
      ]
     },
     "metadata": {
      "needs_background": "light"
     },
     "output_type": "display_data"
    }
   ],
   "source": [
    "logit_roc_auc = roc_auc_score(y_test, loj_model.predict(X_test))\n",
    "fpr, tpr, thresholds = roc_curve(y_test, loj_model.predict_proba(X_test)[:,1])\n",
    "plt.figure()\n",
    "plt.plot(fpr, tpr, label='AUC (area = %0.2f)' % logit_roc_auc)\n",
    "plt.plot([0, 1], [0, 1],'r--')\n",
    "plt.xlim([0.0, 1.0])\n",
    "plt.ylim([0.0, 1.05])\n",
    "plt.xlabel('False Positive Rate')\n",
    "plt.ylabel('True Positive Rate')\n",
    "plt.title('Receiver operating characteristic')\n",
    "plt.legend(loc=\"lower right\")\n",
    "plt.savefig('Log_ROC')\n",
    "plt.show()"
   ]
  },
  {
   "cell_type": "code",
   "execution_count": 24,
   "id": "749d2824",
   "metadata": {},
   "outputs": [
    {
     "name": "stdout",
     "output_type": "stream",
     "text": [
      "0.8183838383838384\n"
     ]
    }
   ],
   "source": [
    "print(accuracy_score(y_test, y_pred))"
   ]
  },
  {
   "cell_type": "code",
   "execution_count": 25,
   "id": "602840a8",
   "metadata": {},
   "outputs": [
    {
     "data": {
      "text/plain": [
       "0.8171717171717171"
      ]
     },
     "execution_count": 25,
     "metadata": {},
     "output_type": "execute_result"
    }
   ],
   "source": [
    "cross_val_score(loj_model, X_test, y_test, cv = 10).mean()"
   ]
  },
  {
   "cell_type": "markdown",
   "id": "372bdb90",
   "metadata": {},
   "source": [
    "#### CatBoost Algorithm"
   ]
  },
  {
   "cell_type": "code",
   "execution_count": 12,
   "id": "7b862f5a",
   "metadata": {},
   "outputs": [],
   "source": [
    "catb = CatBoostClassifier()"
   ]
  },
  {
   "cell_type": "code",
   "execution_count": 13,
   "id": "a10d744f",
   "metadata": {},
   "outputs": [],
   "source": [
    "catb_params = {\"iterations\":[200,500,100,300],\n",
    "              \"learning_rate\":[0.01, 0.03, 0.05 , 0.1],\n",
    "              \"depth\":[4,5,8,10]}"
   ]
  },
  {
   "cell_type": "code",
   "execution_count": 14,
   "id": "c62cc41c",
   "metadata": {
    "jupyter": {
     "outputs_hidden": true
    }
   },
   "outputs": [
    {
     "name": "stdout",
     "output_type": "stream",
     "text": [
      "Fitting 5 folds for each of 64 candidates, totalling 320 fits\n",
      "0:\tlearn: 0.6374243\ttotal: 156ms\tremaining: 46.6s\n",
      "1:\tlearn: 0.5828156\ttotal: 179ms\tremaining: 26.7s\n",
      "2:\tlearn: 0.5357410\ttotal: 199ms\tremaining: 19.7s\n",
      "3:\tlearn: 0.4923353\ttotal: 218ms\tremaining: 16.2s\n",
      "4:\tlearn: 0.4547273\ttotal: 239ms\tremaining: 14.1s\n",
      "5:\tlearn: 0.4220488\ttotal: 264ms\tremaining: 13s\n",
      "6:\tlearn: 0.3928937\ttotal: 281ms\tremaining: 11.7s\n",
      "7:\tlearn: 0.3674892\ttotal: 303ms\tremaining: 11.1s\n",
      "8:\tlearn: 0.3446618\ttotal: 326ms\tremaining: 10.5s\n",
      "9:\tlearn: 0.3229837\ttotal: 348ms\tremaining: 10.1s\n",
      "10:\tlearn: 0.3055727\ttotal: 373ms\tremaining: 9.79s\n",
      "11:\tlearn: 0.2875716\ttotal: 393ms\tremaining: 9.44s\n",
      "12:\tlearn: 0.2722296\ttotal: 417ms\tremaining: 9.21s\n",
      "13:\tlearn: 0.2597448\ttotal: 442ms\tremaining: 9.02s\n",
      "14:\tlearn: 0.2483128\ttotal: 465ms\tremaining: 8.83s\n",
      "15:\tlearn: 0.2363639\ttotal: 487ms\tremaining: 8.64s\n",
      "16:\tlearn: 0.2261635\ttotal: 513ms\tremaining: 8.54s\n",
      "17:\tlearn: 0.2177261\ttotal: 540ms\tremaining: 8.46s\n",
      "18:\tlearn: 0.2087974\ttotal: 562ms\tremaining: 8.31s\n",
      "19:\tlearn: 0.2013848\ttotal: 586ms\tremaining: 8.21s\n",
      "20:\tlearn: 0.1951940\ttotal: 610ms\tremaining: 8.11s\n",
      "21:\tlearn: 0.1879754\ttotal: 634ms\tremaining: 8.01s\n",
      "22:\tlearn: 0.1820221\ttotal: 656ms\tremaining: 7.9s\n",
      "23:\tlearn: 0.1774417\ttotal: 676ms\tremaining: 7.78s\n",
      "24:\tlearn: 0.1722432\ttotal: 701ms\tremaining: 7.71s\n",
      "25:\tlearn: 0.1681877\ttotal: 727ms\tremaining: 7.66s\n",
      "26:\tlearn: 0.1650728\ttotal: 747ms\tremaining: 7.56s\n",
      "27:\tlearn: 0.1613613\ttotal: 768ms\tremaining: 7.46s\n",
      "28:\tlearn: 0.1579723\ttotal: 791ms\tremaining: 7.39s\n",
      "29:\tlearn: 0.1545872\ttotal: 814ms\tremaining: 7.33s\n",
      "30:\tlearn: 0.1511790\ttotal: 836ms\tremaining: 7.25s\n",
      "31:\tlearn: 0.1480950\ttotal: 860ms\tremaining: 7.2s\n",
      "32:\tlearn: 0.1451848\ttotal: 884ms\tremaining: 7.16s\n",
      "33:\tlearn: 0.1427810\ttotal: 907ms\tremaining: 7.1s\n",
      "34:\tlearn: 0.1404245\ttotal: 927ms\tremaining: 7.02s\n",
      "35:\tlearn: 0.1379686\ttotal: 947ms\tremaining: 6.94s\n",
      "36:\tlearn: 0.1356439\ttotal: 969ms\tremaining: 6.89s\n",
      "37:\tlearn: 0.1334977\ttotal: 990ms\tremaining: 6.83s\n",
      "38:\tlearn: 0.1317138\ttotal: 1.01s\tremaining: 6.76s\n",
      "39:\tlearn: 0.1300272\ttotal: 1.03s\tremaining: 6.7s\n",
      "40:\tlearn: 0.1283683\ttotal: 1.05s\tremaining: 6.64s\n",
      "41:\tlearn: 0.1267493\ttotal: 1.07s\tremaining: 6.58s\n",
      "42:\tlearn: 0.1245376\ttotal: 1.09s\tremaining: 6.52s\n",
      "43:\tlearn: 0.1231437\ttotal: 1.12s\tremaining: 6.5s\n",
      "44:\tlearn: 0.1214179\ttotal: 1.14s\tremaining: 6.48s\n",
      "45:\tlearn: 0.1202306\ttotal: 1.17s\tremaining: 6.45s\n",
      "46:\tlearn: 0.1186882\ttotal: 1.19s\tremaining: 6.43s\n",
      "47:\tlearn: 0.1171166\ttotal: 1.21s\tremaining: 6.37s\n",
      "48:\tlearn: 0.1159290\ttotal: 1.24s\tremaining: 6.34s\n",
      "49:\tlearn: 0.1149251\ttotal: 1.26s\tremaining: 6.31s\n",
      "50:\tlearn: 0.1139575\ttotal: 1.29s\tremaining: 6.29s\n",
      "51:\tlearn: 0.1133510\ttotal: 1.3s\tremaining: 6.18s\n",
      "52:\tlearn: 0.1123275\ttotal: 1.32s\tremaining: 6.14s\n",
      "53:\tlearn: 0.1112214\ttotal: 1.34s\tremaining: 6.13s\n",
      "54:\tlearn: 0.1105102\ttotal: 1.37s\tremaining: 6.1s\n",
      "55:\tlearn: 0.1097729\ttotal: 1.39s\tremaining: 6.07s\n",
      "56:\tlearn: 0.1084329\ttotal: 1.42s\tremaining: 6.05s\n",
      "57:\tlearn: 0.1072025\ttotal: 1.44s\tremaining: 6.03s\n",
      "58:\tlearn: 0.1061387\ttotal: 1.47s\tremaining: 5.99s\n",
      "59:\tlearn: 0.1049756\ttotal: 1.49s\tremaining: 5.97s\n",
      "60:\tlearn: 0.1041543\ttotal: 1.51s\tremaining: 5.93s\n",
      "61:\tlearn: 0.1031931\ttotal: 1.54s\tremaining: 5.92s\n",
      "62:\tlearn: 0.1023542\ttotal: 1.57s\tremaining: 5.89s\n",
      "63:\tlearn: 0.1014418\ttotal: 1.59s\tremaining: 5.87s\n",
      "64:\tlearn: 0.1006913\ttotal: 1.61s\tremaining: 5.84s\n",
      "65:\tlearn: 0.0996961\ttotal: 1.64s\tremaining: 5.81s\n",
      "66:\tlearn: 0.0988034\ttotal: 1.66s\tremaining: 5.77s\n",
      "67:\tlearn: 0.0982974\ttotal: 1.69s\tremaining: 5.75s\n",
      "68:\tlearn: 0.0974018\ttotal: 1.71s\tremaining: 5.72s\n",
      "69:\tlearn: 0.0966375\ttotal: 1.74s\tremaining: 5.7s\n",
      "70:\tlearn: 0.0959484\ttotal: 1.76s\tremaining: 5.67s\n",
      "71:\tlearn: 0.0953229\ttotal: 1.78s\tremaining: 5.65s\n",
      "72:\tlearn: 0.0946377\ttotal: 1.81s\tremaining: 5.62s\n",
      "73:\tlearn: 0.0940120\ttotal: 1.83s\tremaining: 5.59s\n",
      "74:\tlearn: 0.0935331\ttotal: 1.85s\tremaining: 5.56s\n",
      "75:\tlearn: 0.0930424\ttotal: 1.88s\tremaining: 5.54s\n",
      "76:\tlearn: 0.0925482\ttotal: 1.9s\tremaining: 5.51s\n",
      "77:\tlearn: 0.0919655\ttotal: 1.93s\tremaining: 5.48s\n",
      "78:\tlearn: 0.0913285\ttotal: 1.95s\tremaining: 5.46s\n",
      "79:\tlearn: 0.0906470\ttotal: 1.98s\tremaining: 5.43s\n",
      "80:\tlearn: 0.0900901\ttotal: 2s\tremaining: 5.4s\n",
      "81:\tlearn: 0.0895123\ttotal: 2.02s\tremaining: 5.38s\n",
      "82:\tlearn: 0.0889308\ttotal: 2.04s\tremaining: 5.35s\n",
      "83:\tlearn: 0.0881819\ttotal: 2.07s\tremaining: 5.32s\n",
      "84:\tlearn: 0.0876803\ttotal: 2.09s\tremaining: 5.29s\n",
      "85:\tlearn: 0.0871370\ttotal: 2.11s\tremaining: 5.26s\n",
      "86:\tlearn: 0.0865972\ttotal: 2.13s\tremaining: 5.22s\n",
      "87:\tlearn: 0.0862108\ttotal: 2.16s\tremaining: 5.2s\n",
      "88:\tlearn: 0.0857780\ttotal: 2.18s\tremaining: 5.16s\n",
      "89:\tlearn: 0.0852965\ttotal: 2.2s\tremaining: 5.14s\n",
      "90:\tlearn: 0.0849289\ttotal: 2.23s\tremaining: 5.11s\n",
      "91:\tlearn: 0.0843794\ttotal: 2.25s\tremaining: 5.09s\n",
      "92:\tlearn: 0.0839154\ttotal: 2.27s\tremaining: 5.06s\n",
      "93:\tlearn: 0.0834724\ttotal: 2.3s\tremaining: 5.04s\n",
      "94:\tlearn: 0.0831659\ttotal: 2.32s\tremaining: 5.01s\n",
      "95:\tlearn: 0.0827918\ttotal: 2.35s\tremaining: 4.99s\n",
      "96:\tlearn: 0.0825287\ttotal: 2.37s\tremaining: 4.97s\n",
      "97:\tlearn: 0.0819539\ttotal: 2.4s\tremaining: 4.95s\n",
      "98:\tlearn: 0.0816034\ttotal: 2.41s\tremaining: 4.9s\n",
      "99:\tlearn: 0.0813594\ttotal: 2.44s\tremaining: 4.87s\n",
      "100:\tlearn: 0.0808999\ttotal: 2.46s\tremaining: 4.84s\n",
      "101:\tlearn: 0.0807935\ttotal: 2.47s\tremaining: 4.79s\n",
      "102:\tlearn: 0.0803862\ttotal: 2.5s\tremaining: 4.77s\n",
      "103:\tlearn: 0.0799852\ttotal: 2.51s\tremaining: 4.73s\n",
      "104:\tlearn: 0.0794556\ttotal: 2.53s\tremaining: 4.7s\n",
      "105:\tlearn: 0.0791130\ttotal: 2.55s\tremaining: 4.67s\n",
      "106:\tlearn: 0.0790493\ttotal: 2.56s\tremaining: 4.62s\n",
      "107:\tlearn: 0.0787504\ttotal: 2.58s\tremaining: 4.58s\n",
      "108:\tlearn: 0.0784077\ttotal: 2.6s\tremaining: 4.55s\n",
      "109:\tlearn: 0.0779473\ttotal: 2.62s\tremaining: 4.52s\n",
      "110:\tlearn: 0.0775971\ttotal: 2.64s\tremaining: 4.49s\n",
      "111:\tlearn: 0.0772253\ttotal: 2.66s\tremaining: 4.46s\n",
      "112:\tlearn: 0.0767806\ttotal: 2.68s\tremaining: 4.43s\n",
      "113:\tlearn: 0.0765515\ttotal: 2.7s\tremaining: 4.4s\n",
      "114:\tlearn: 0.0763013\ttotal: 2.72s\tremaining: 4.38s\n",
      "115:\tlearn: 0.0759338\ttotal: 2.74s\tremaining: 4.35s\n",
      "116:\tlearn: 0.0756088\ttotal: 2.76s\tremaining: 4.32s\n",
      "117:\tlearn: 0.0752998\ttotal: 2.78s\tremaining: 4.29s\n",
      "118:\tlearn: 0.0750705\ttotal: 2.8s\tremaining: 4.26s\n",
      "119:\tlearn: 0.0747483\ttotal: 2.82s\tremaining: 4.24s\n",
      "120:\tlearn: 0.0744536\ttotal: 2.84s\tremaining: 4.21s\n",
      "121:\tlearn: 0.0741432\ttotal: 2.86s\tremaining: 4.18s\n",
      "122:\tlearn: 0.0738444\ttotal: 2.88s\tremaining: 4.15s\n",
      "123:\tlearn: 0.0735796\ttotal: 2.9s\tremaining: 4.12s\n",
      "124:\tlearn: 0.0732458\ttotal: 2.92s\tremaining: 4.09s\n",
      "125:\tlearn: 0.0729463\ttotal: 2.94s\tremaining: 4.06s\n",
      "126:\tlearn: 0.0725858\ttotal: 2.96s\tremaining: 4.03s\n",
      "127:\tlearn: 0.0723530\ttotal: 2.98s\tremaining: 4s\n",
      "128:\tlearn: 0.0722152\ttotal: 2.99s\tremaining: 3.97s\n",
      "129:\tlearn: 0.0719071\ttotal: 3.02s\tremaining: 3.94s\n",
      "130:\tlearn: 0.0715704\ttotal: 3.04s\tremaining: 3.92s\n",
      "131:\tlearn: 0.0713586\ttotal: 3.05s\tremaining: 3.89s\n",
      "132:\tlearn: 0.0711504\ttotal: 3.08s\tremaining: 3.86s\n",
      "133:\tlearn: 0.0708478\ttotal: 3.1s\tremaining: 3.83s\n",
      "134:\tlearn: 0.0706590\ttotal: 3.12s\tremaining: 3.81s\n",
      "135:\tlearn: 0.0704222\ttotal: 3.14s\tremaining: 3.78s\n",
      "136:\tlearn: 0.0700780\ttotal: 3.15s\tremaining: 3.75s\n",
      "137:\tlearn: 0.0697835\ttotal: 3.17s\tremaining: 3.73s\n",
      "138:\tlearn: 0.0695285\ttotal: 3.2s\tremaining: 3.7s\n",
      "139:\tlearn: 0.0693389\ttotal: 3.22s\tremaining: 3.68s\n",
      "140:\tlearn: 0.0691225\ttotal: 3.24s\tremaining: 3.65s\n",
      "141:\tlearn: 0.0689479\ttotal: 3.26s\tremaining: 3.63s\n",
      "142:\tlearn: 0.0687606\ttotal: 3.28s\tremaining: 3.6s\n",
      "143:\tlearn: 0.0685448\ttotal: 3.3s\tremaining: 3.57s\n",
      "144:\tlearn: 0.0682191\ttotal: 3.32s\tremaining: 3.55s\n",
      "145:\tlearn: 0.0679662\ttotal: 3.34s\tremaining: 3.52s\n",
      "146:\tlearn: 0.0676967\ttotal: 3.36s\tremaining: 3.5s\n",
      "147:\tlearn: 0.0675760\ttotal: 3.38s\tremaining: 3.47s\n",
      "148:\tlearn: 0.0673321\ttotal: 3.4s\tremaining: 3.44s\n",
      "149:\tlearn: 0.0672953\ttotal: 3.41s\tremaining: 3.41s\n",
      "150:\tlearn: 0.0670739\ttotal: 3.42s\tremaining: 3.38s\n",
      "151:\tlearn: 0.0668574\ttotal: 3.44s\tremaining: 3.35s\n",
      "152:\tlearn: 0.0666854\ttotal: 3.46s\tremaining: 3.33s\n",
      "153:\tlearn: 0.0664900\ttotal: 3.49s\tremaining: 3.31s\n",
      "154:\tlearn: 0.0663440\ttotal: 3.51s\tremaining: 3.28s\n",
      "155:\tlearn: 0.0661058\ttotal: 3.53s\tremaining: 3.25s\n",
      "156:\tlearn: 0.0658550\ttotal: 3.55s\tremaining: 3.23s\n",
      "157:\tlearn: 0.0656508\ttotal: 3.56s\tremaining: 3.2s\n",
      "158:\tlearn: 0.0656138\ttotal: 3.58s\tremaining: 3.17s\n",
      "159:\tlearn: 0.0654439\ttotal: 3.6s\tremaining: 3.15s\n",
      "160:\tlearn: 0.0651991\ttotal: 3.62s\tremaining: 3.12s\n",
      "161:\tlearn: 0.0649307\ttotal: 3.63s\tremaining: 3.1s\n",
      "162:\tlearn: 0.0647792\ttotal: 3.65s\tremaining: 3.07s\n",
      "163:\tlearn: 0.0645569\ttotal: 3.67s\tremaining: 3.04s\n",
      "164:\tlearn: 0.0644769\ttotal: 3.69s\tremaining: 3.02s\n",
      "165:\tlearn: 0.0642542\ttotal: 3.71s\tremaining: 2.99s\n"
     ]
    },
    {
     "name": "stdout",
     "output_type": "stream",
     "text": [
      "166:\tlearn: 0.0642063\ttotal: 3.72s\tremaining: 2.96s\n",
      "167:\tlearn: 0.0640369\ttotal: 3.74s\tremaining: 2.94s\n",
      "168:\tlearn: 0.0640131\ttotal: 3.75s\tremaining: 2.9s\n",
      "169:\tlearn: 0.0637282\ttotal: 3.77s\tremaining: 2.88s\n",
      "170:\tlearn: 0.0635387\ttotal: 3.79s\tremaining: 2.85s\n",
      "171:\tlearn: 0.0633339\ttotal: 3.8s\tremaining: 2.83s\n",
      "172:\tlearn: 0.0631773\ttotal: 3.82s\tremaining: 2.81s\n",
      "173:\tlearn: 0.0630345\ttotal: 3.84s\tremaining: 2.78s\n",
      "174:\tlearn: 0.0629156\ttotal: 3.86s\tremaining: 2.76s\n",
      "175:\tlearn: 0.0627127\ttotal: 3.87s\tremaining: 2.73s\n",
      "176:\tlearn: 0.0625932\ttotal: 3.89s\tremaining: 2.71s\n",
      "177:\tlearn: 0.0624418\ttotal: 3.91s\tremaining: 2.68s\n",
      "178:\tlearn: 0.0623204\ttotal: 3.93s\tremaining: 2.66s\n",
      "179:\tlearn: 0.0621432\ttotal: 3.95s\tremaining: 2.63s\n",
      "180:\tlearn: 0.0619789\ttotal: 3.97s\tremaining: 2.61s\n",
      "181:\tlearn: 0.0617565\ttotal: 3.99s\tremaining: 2.58s\n",
      "182:\tlearn: 0.0616193\ttotal: 4s\tremaining: 2.56s\n",
      "183:\tlearn: 0.0615006\ttotal: 4.02s\tremaining: 2.54s\n",
      "184:\tlearn: 0.0613204\ttotal: 4.04s\tremaining: 2.51s\n",
      "185:\tlearn: 0.0611901\ttotal: 4.06s\tremaining: 2.49s\n",
      "186:\tlearn: 0.0610544\ttotal: 4.08s\tremaining: 2.47s\n",
      "187:\tlearn: 0.0608987\ttotal: 4.1s\tremaining: 2.44s\n",
      "188:\tlearn: 0.0606976\ttotal: 4.12s\tremaining: 2.42s\n",
      "189:\tlearn: 0.0605550\ttotal: 4.14s\tremaining: 2.4s\n",
      "190:\tlearn: 0.0604868\ttotal: 4.15s\tremaining: 2.37s\n",
      "191:\tlearn: 0.0603359\ttotal: 4.16s\tremaining: 2.34s\n",
      "192:\tlearn: 0.0602017\ttotal: 4.18s\tremaining: 2.32s\n",
      "193:\tlearn: 0.0600000\ttotal: 4.2s\tremaining: 2.29s\n",
      "194:\tlearn: 0.0597645\ttotal: 4.21s\tremaining: 2.27s\n",
      "195:\tlearn: 0.0596608\ttotal: 4.23s\tremaining: 2.25s\n",
      "196:\tlearn: 0.0595197\ttotal: 4.25s\tremaining: 2.22s\n",
      "197:\tlearn: 0.0594050\ttotal: 4.27s\tremaining: 2.2s\n",
      "198:\tlearn: 0.0593972\ttotal: 4.28s\tremaining: 2.17s\n",
      "199:\tlearn: 0.0592528\ttotal: 4.29s\tremaining: 2.15s\n",
      "200:\tlearn: 0.0591126\ttotal: 4.31s\tremaining: 2.12s\n",
      "201:\tlearn: 0.0589831\ttotal: 4.33s\tremaining: 2.1s\n",
      "202:\tlearn: 0.0589498\ttotal: 4.34s\tremaining: 2.07s\n",
      "203:\tlearn: 0.0588238\ttotal: 4.35s\tremaining: 2.05s\n",
      "204:\tlearn: 0.0588020\ttotal: 4.36s\tremaining: 2.02s\n",
      "205:\tlearn: 0.0586880\ttotal: 4.37s\tremaining: 2s\n",
      "206:\tlearn: 0.0585454\ttotal: 4.39s\tremaining: 1.97s\n",
      "207:\tlearn: 0.0583881\ttotal: 4.41s\tremaining: 1.95s\n",
      "208:\tlearn: 0.0581865\ttotal: 4.43s\tremaining: 1.93s\n",
      "209:\tlearn: 0.0580064\ttotal: 4.45s\tremaining: 1.91s\n",
      "210:\tlearn: 0.0578836\ttotal: 4.46s\tremaining: 1.88s\n",
      "211:\tlearn: 0.0577841\ttotal: 4.48s\tremaining: 1.86s\n",
      "212:\tlearn: 0.0576677\ttotal: 4.5s\tremaining: 1.84s\n",
      "213:\tlearn: 0.0575688\ttotal: 4.51s\tremaining: 1.81s\n",
      "214:\tlearn: 0.0574494\ttotal: 4.53s\tremaining: 1.79s\n",
      "215:\tlearn: 0.0573081\ttotal: 4.55s\tremaining: 1.77s\n",
      "216:\tlearn: 0.0572171\ttotal: 4.57s\tremaining: 1.75s\n",
      "217:\tlearn: 0.0570844\ttotal: 4.59s\tremaining: 1.73s\n",
      "218:\tlearn: 0.0569691\ttotal: 4.61s\tremaining: 1.7s\n",
      "219:\tlearn: 0.0568739\ttotal: 4.63s\tremaining: 1.68s\n",
      "220:\tlearn: 0.0567617\ttotal: 4.64s\tremaining: 1.66s\n",
      "221:\tlearn: 0.0566729\ttotal: 4.66s\tremaining: 1.64s\n",
      "222:\tlearn: 0.0565005\ttotal: 4.68s\tremaining: 1.62s\n",
      "223:\tlearn: 0.0563727\ttotal: 4.7s\tremaining: 1.59s\n",
      "224:\tlearn: 0.0562445\ttotal: 4.72s\tremaining: 1.57s\n",
      "225:\tlearn: 0.0561869\ttotal: 4.74s\tremaining: 1.55s\n",
      "226:\tlearn: 0.0560332\ttotal: 4.76s\tremaining: 1.53s\n",
      "227:\tlearn: 0.0558881\ttotal: 4.78s\tremaining: 1.51s\n",
      "228:\tlearn: 0.0557750\ttotal: 4.8s\tremaining: 1.49s\n",
      "229:\tlearn: 0.0556857\ttotal: 4.82s\tremaining: 1.47s\n",
      "230:\tlearn: 0.0555401\ttotal: 4.83s\tremaining: 1.44s\n",
      "231:\tlearn: 0.0554952\ttotal: 4.85s\tremaining: 1.42s\n",
      "232:\tlearn: 0.0553871\ttotal: 4.87s\tremaining: 1.4s\n",
      "233:\tlearn: 0.0552612\ttotal: 4.89s\tremaining: 1.38s\n",
      "234:\tlearn: 0.0551584\ttotal: 4.9s\tremaining: 1.35s\n",
      "235:\tlearn: 0.0550689\ttotal: 4.92s\tremaining: 1.33s\n",
      "236:\tlearn: 0.0549808\ttotal: 4.93s\tremaining: 1.31s\n",
      "237:\tlearn: 0.0548993\ttotal: 4.95s\tremaining: 1.29s\n",
      "238:\tlearn: 0.0547502\ttotal: 4.97s\tremaining: 1.27s\n",
      "239:\tlearn: 0.0546404\ttotal: 4.99s\tremaining: 1.25s\n",
      "240:\tlearn: 0.0546313\ttotal: 5s\tremaining: 1.22s\n",
      "241:\tlearn: 0.0545615\ttotal: 5.02s\tremaining: 1.2s\n",
      "242:\tlearn: 0.0544714\ttotal: 5.04s\tremaining: 1.18s\n",
      "243:\tlearn: 0.0543430\ttotal: 5.06s\tremaining: 1.16s\n",
      "244:\tlearn: 0.0542490\ttotal: 5.08s\tremaining: 1.14s\n",
      "245:\tlearn: 0.0541138\ttotal: 5.09s\tremaining: 1.12s\n",
      "246:\tlearn: 0.0539921\ttotal: 5.11s\tremaining: 1.1s\n",
      "247:\tlearn: 0.0538616\ttotal: 5.13s\tremaining: 1.07s\n",
      "248:\tlearn: 0.0537787\ttotal: 5.14s\tremaining: 1.05s\n",
      "249:\tlearn: 0.0536445\ttotal: 5.16s\tremaining: 1.03s\n",
      "250:\tlearn: 0.0535754\ttotal: 5.17s\tremaining: 1.01s\n",
      "251:\tlearn: 0.0534742\ttotal: 5.19s\tremaining: 988ms\n",
      "252:\tlearn: 0.0533764\ttotal: 5.2s\tremaining: 966ms\n",
      "253:\tlearn: 0.0532303\ttotal: 5.22s\tremaining: 946ms\n",
      "254:\tlearn: 0.0531263\ttotal: 5.24s\tremaining: 924ms\n",
      "255:\tlearn: 0.0529803\ttotal: 5.26s\tremaining: 904ms\n",
      "256:\tlearn: 0.0529623\ttotal: 5.26s\tremaining: 881ms\n",
      "257:\tlearn: 0.0528652\ttotal: 5.28s\tremaining: 860ms\n",
      "258:\tlearn: 0.0527824\ttotal: 5.3s\tremaining: 839ms\n",
      "259:\tlearn: 0.0527004\ttotal: 5.32s\tremaining: 818ms\n",
      "260:\tlearn: 0.0526453\ttotal: 5.33s\tremaining: 796ms\n",
      "261:\tlearn: 0.0525417\ttotal: 5.35s\tremaining: 775ms\n",
      "262:\tlearn: 0.0524442\ttotal: 5.36s\tremaining: 755ms\n",
      "263:\tlearn: 0.0523435\ttotal: 5.38s\tremaining: 734ms\n",
      "264:\tlearn: 0.0522588\ttotal: 5.4s\tremaining: 713ms\n",
      "265:\tlearn: 0.0522007\ttotal: 5.41s\tremaining: 692ms\n",
      "266:\tlearn: 0.0521417\ttotal: 5.42s\tremaining: 671ms\n",
      "267:\tlearn: 0.0520624\ttotal: 5.44s\tremaining: 649ms\n",
      "268:\tlearn: 0.0520620\ttotal: 5.44s\tremaining: 627ms\n",
      "269:\tlearn: 0.0519501\ttotal: 5.46s\tremaining: 606ms\n",
      "270:\tlearn: 0.0518435\ttotal: 5.47s\tremaining: 586ms\n",
      "271:\tlearn: 0.0517664\ttotal: 5.49s\tremaining: 565ms\n",
      "272:\tlearn: 0.0517103\ttotal: 5.51s\tremaining: 545ms\n",
      "273:\tlearn: 0.0516419\ttotal: 5.52s\tremaining: 524ms\n",
      "274:\tlearn: 0.0515123\ttotal: 5.53s\tremaining: 503ms\n",
      "275:\tlearn: 0.0514239\ttotal: 5.55s\tremaining: 483ms\n",
      "276:\tlearn: 0.0513190\ttotal: 5.57s\tremaining: 462ms\n",
      "277:\tlearn: 0.0512356\ttotal: 5.58s\tremaining: 442ms\n",
      "278:\tlearn: 0.0511444\ttotal: 5.6s\tremaining: 422ms\n",
      "279:\tlearn: 0.0510564\ttotal: 5.62s\tremaining: 401ms\n",
      "280:\tlearn: 0.0510527\ttotal: 5.62s\tremaining: 380ms\n",
      "281:\tlearn: 0.0509809\ttotal: 5.64s\tremaining: 360ms\n",
      "282:\tlearn: 0.0508944\ttotal: 5.66s\tremaining: 340ms\n",
      "283:\tlearn: 0.0507941\ttotal: 5.67s\tremaining: 320ms\n",
      "284:\tlearn: 0.0507106\ttotal: 5.69s\tremaining: 299ms\n",
      "285:\tlearn: 0.0505960\ttotal: 5.7s\tremaining: 279ms\n",
      "286:\tlearn: 0.0504708\ttotal: 5.72s\tremaining: 259ms\n",
      "287:\tlearn: 0.0504099\ttotal: 5.73s\tremaining: 239ms\n",
      "288:\tlearn: 0.0503294\ttotal: 5.75s\tremaining: 219ms\n",
      "289:\tlearn: 0.0502007\ttotal: 5.76s\tremaining: 199ms\n",
      "290:\tlearn: 0.0500951\ttotal: 5.78s\tremaining: 179ms\n",
      "291:\tlearn: 0.0499719\ttotal: 5.79s\tremaining: 159ms\n",
      "292:\tlearn: 0.0499719\ttotal: 5.8s\tremaining: 138ms\n",
      "293:\tlearn: 0.0498997\ttotal: 5.81s\tremaining: 119ms\n",
      "294:\tlearn: 0.0498133\ttotal: 5.83s\tremaining: 98.8ms\n",
      "295:\tlearn: 0.0497139\ttotal: 5.84s\tremaining: 79ms\n",
      "296:\tlearn: 0.0496266\ttotal: 5.86s\tremaining: 59.2ms\n",
      "297:\tlearn: 0.0495449\ttotal: 5.87s\tremaining: 39.4ms\n",
      "298:\tlearn: 0.0494305\ttotal: 5.89s\tremaining: 19.7ms\n",
      "299:\tlearn: 0.0493822\ttotal: 5.9s\tremaining: 0us\n"
     ]
    }
   ],
   "source": [
    "catb_cv_model = GridSearchCV(catb, catb_params, \n",
    "                             cv = 5, n_jobs = -1, verbose = 2).fit(X_train, y_train)"
   ]
  },
  {
   "cell_type": "code",
   "execution_count": 15,
   "id": "fb90d3e9",
   "metadata": {
    "scrolled": true
   },
   "outputs": [
    {
     "data": {
      "text/plain": [
       "{'depth': 10, 'iterations': 300, 'learning_rate': 0.03}"
      ]
     },
     "execution_count": 15,
     "metadata": {},
     "output_type": "execute_result"
    }
   ],
   "source": [
    "catb_cv_model.best_params_"
   ]
  },
  {
   "cell_type": "code",
   "execution_count": 16,
   "id": "a7eb6301",
   "metadata": {
    "jupyter": {
     "outputs_hidden": true
    }
   },
   "outputs": [
    {
     "name": "stdout",
     "output_type": "stream",
     "text": [
      "0:\tlearn: 0.6374243\ttotal: 10.8ms\tremaining: 5.38s\n",
      "1:\tlearn: 0.5828156\ttotal: 26.9ms\tremaining: 6.71s\n",
      "2:\tlearn: 0.5357410\ttotal: 42.2ms\tremaining: 7s\n",
      "3:\tlearn: 0.4923353\ttotal: 54.3ms\tremaining: 6.73s\n",
      "4:\tlearn: 0.4547273\ttotal: 71ms\tremaining: 7.03s\n",
      "5:\tlearn: 0.4220488\ttotal: 87.7ms\tremaining: 7.22s\n",
      "6:\tlearn: 0.3928937\ttotal: 99ms\tremaining: 6.97s\n",
      "7:\tlearn: 0.3674892\ttotal: 112ms\tremaining: 6.89s\n",
      "8:\tlearn: 0.3446618\ttotal: 123ms\tremaining: 6.71s\n",
      "9:\tlearn: 0.3229837\ttotal: 136ms\tremaining: 6.68s\n",
      "10:\tlearn: 0.3055727\ttotal: 147ms\tremaining: 6.56s\n",
      "11:\tlearn: 0.2875716\ttotal: 160ms\tremaining: 6.5s\n",
      "12:\tlearn: 0.2722296\ttotal: 173ms\tremaining: 6.47s\n",
      "13:\tlearn: 0.2597448\ttotal: 185ms\tremaining: 6.42s\n",
      "14:\tlearn: 0.2483128\ttotal: 197ms\tremaining: 6.37s\n",
      "15:\tlearn: 0.2363639\ttotal: 208ms\tremaining: 6.29s\n",
      "16:\tlearn: 0.2261635\ttotal: 221ms\tremaining: 6.27s\n",
      "17:\tlearn: 0.2177261\ttotal: 231ms\tremaining: 6.19s\n",
      "18:\tlearn: 0.2087974\ttotal: 243ms\tremaining: 6.15s\n",
      "19:\tlearn: 0.2013848\ttotal: 255ms\tremaining: 6.12s\n",
      "20:\tlearn: 0.1951940\ttotal: 266ms\tremaining: 6.06s\n",
      "21:\tlearn: 0.1879754\ttotal: 277ms\tremaining: 6.03s\n",
      "22:\tlearn: 0.1820221\ttotal: 289ms\tremaining: 5.99s\n",
      "23:\tlearn: 0.1774417\ttotal: 301ms\tremaining: 5.96s\n",
      "24:\tlearn: 0.1722432\ttotal: 311ms\tremaining: 5.92s\n",
      "25:\tlearn: 0.1681877\ttotal: 323ms\tremaining: 5.88s\n",
      "26:\tlearn: 0.1650728\ttotal: 334ms\tremaining: 5.86s\n",
      "27:\tlearn: 0.1613613\ttotal: 347ms\tremaining: 5.84s\n",
      "28:\tlearn: 0.1579723\ttotal: 358ms\tremaining: 5.82s\n",
      "29:\tlearn: 0.1545872\ttotal: 370ms\tremaining: 5.8s\n",
      "30:\tlearn: 0.1511790\ttotal: 383ms\tremaining: 5.79s\n",
      "31:\tlearn: 0.1480950\ttotal: 394ms\tremaining: 5.76s\n",
      "32:\tlearn: 0.1451848\ttotal: 406ms\tremaining: 5.74s\n",
      "33:\tlearn: 0.1427810\ttotal: 418ms\tremaining: 5.72s\n",
      "34:\tlearn: 0.1404245\ttotal: 429ms\tremaining: 5.7s\n",
      "35:\tlearn: 0.1379686\ttotal: 441ms\tremaining: 5.69s\n",
      "36:\tlearn: 0.1356439\ttotal: 453ms\tremaining: 5.67s\n",
      "37:\tlearn: 0.1334977\ttotal: 464ms\tremaining: 5.64s\n",
      "38:\tlearn: 0.1317138\ttotal: 476ms\tremaining: 5.63s\n",
      "39:\tlearn: 0.1300272\ttotal: 489ms\tremaining: 5.62s\n",
      "40:\tlearn: 0.1283683\ttotal: 501ms\tremaining: 5.6s\n",
      "41:\tlearn: 0.1267493\ttotal: 511ms\tremaining: 5.57s\n",
      "42:\tlearn: 0.1245376\ttotal: 523ms\tremaining: 5.56s\n",
      "43:\tlearn: 0.1231437\ttotal: 534ms\tremaining: 5.53s\n",
      "44:\tlearn: 0.1214179\ttotal: 546ms\tremaining: 5.52s\n",
      "45:\tlearn: 0.1202306\ttotal: 557ms\tremaining: 5.5s\n",
      "46:\tlearn: 0.1186882\ttotal: 568ms\tremaining: 5.48s\n",
      "47:\tlearn: 0.1171166\ttotal: 579ms\tremaining: 5.46s\n",
      "48:\tlearn: 0.1159290\ttotal: 590ms\tremaining: 5.43s\n",
      "49:\tlearn: 0.1149251\ttotal: 601ms\tremaining: 5.41s\n",
      "50:\tlearn: 0.1139575\ttotal: 612ms\tremaining: 5.38s\n",
      "51:\tlearn: 0.1133510\ttotal: 617ms\tremaining: 5.32s\n",
      "52:\tlearn: 0.1123275\ttotal: 629ms\tremaining: 5.3s\n",
      "53:\tlearn: 0.1112214\ttotal: 640ms\tremaining: 5.29s\n",
      "54:\tlearn: 0.1105102\ttotal: 651ms\tremaining: 5.26s\n",
      "55:\tlearn: 0.1097729\ttotal: 661ms\tremaining: 5.24s\n",
      "56:\tlearn: 0.1084329\ttotal: 671ms\tremaining: 5.21s\n",
      "57:\tlearn: 0.1072025\ttotal: 685ms\tremaining: 5.22s\n",
      "58:\tlearn: 0.1061387\ttotal: 695ms\tremaining: 5.19s\n",
      "59:\tlearn: 0.1049756\ttotal: 705ms\tremaining: 5.17s\n",
      "60:\tlearn: 0.1041543\ttotal: 715ms\tremaining: 5.15s\n",
      "61:\tlearn: 0.1031931\ttotal: 727ms\tremaining: 5.14s\n",
      "62:\tlearn: 0.1023542\ttotal: 737ms\tremaining: 5.11s\n",
      "63:\tlearn: 0.1014418\ttotal: 748ms\tremaining: 5.09s\n",
      "64:\tlearn: 0.1006913\ttotal: 760ms\tremaining: 5.08s\n",
      "65:\tlearn: 0.0996961\ttotal: 771ms\tremaining: 5.07s\n",
      "66:\tlearn: 0.0988034\ttotal: 782ms\tremaining: 5.05s\n",
      "67:\tlearn: 0.0982974\ttotal: 793ms\tremaining: 5.04s\n",
      "68:\tlearn: 0.0974018\ttotal: 804ms\tremaining: 5.02s\n",
      "69:\tlearn: 0.0966375\ttotal: 815ms\tremaining: 5.01s\n",
      "70:\tlearn: 0.0959484\ttotal: 827ms\tremaining: 5s\n",
      "71:\tlearn: 0.0953229\ttotal: 838ms\tremaining: 4.98s\n",
      "72:\tlearn: 0.0946377\ttotal: 848ms\tremaining: 4.96s\n",
      "73:\tlearn: 0.0940120\ttotal: 858ms\tremaining: 4.94s\n",
      "74:\tlearn: 0.0935331\ttotal: 869ms\tremaining: 4.93s\n",
      "75:\tlearn: 0.0930424\ttotal: 880ms\tremaining: 4.91s\n",
      "76:\tlearn: 0.0925482\ttotal: 892ms\tremaining: 4.9s\n",
      "77:\tlearn: 0.0919655\ttotal: 903ms\tremaining: 4.88s\n",
      "78:\tlearn: 0.0913285\ttotal: 914ms\tremaining: 4.87s\n",
      "79:\tlearn: 0.0906470\ttotal: 925ms\tremaining: 4.86s\n",
      "80:\tlearn: 0.0900901\ttotal: 936ms\tremaining: 4.84s\n",
      "81:\tlearn: 0.0895123\ttotal: 948ms\tremaining: 4.83s\n",
      "82:\tlearn: 0.0889308\ttotal: 960ms\tremaining: 4.82s\n",
      "83:\tlearn: 0.0881819\ttotal: 971ms\tremaining: 4.81s\n",
      "84:\tlearn: 0.0876803\ttotal: 982ms\tremaining: 4.79s\n",
      "85:\tlearn: 0.0871370\ttotal: 995ms\tremaining: 4.79s\n",
      "86:\tlearn: 0.0865972\ttotal: 1s\tremaining: 4.77s\n",
      "87:\tlearn: 0.0862108\ttotal: 1.02s\tremaining: 4.76s\n",
      "88:\tlearn: 0.0857780\ttotal: 1.03s\tremaining: 4.75s\n",
      "89:\tlearn: 0.0852965\ttotal: 1.04s\tremaining: 4.75s\n",
      "90:\tlearn: 0.0849289\ttotal: 1.05s\tremaining: 4.74s\n",
      "91:\tlearn: 0.0843794\ttotal: 1.06s\tremaining: 4.72s\n",
      "92:\tlearn: 0.0839154\ttotal: 1.07s\tremaining: 4.71s\n",
      "93:\tlearn: 0.0834724\ttotal: 1.09s\tremaining: 4.69s\n",
      "94:\tlearn: 0.0831659\ttotal: 1.09s\tremaining: 4.67s\n",
      "95:\tlearn: 0.0827918\ttotal: 1.11s\tremaining: 4.66s\n",
      "96:\tlearn: 0.0825287\ttotal: 1.12s\tremaining: 4.64s\n",
      "97:\tlearn: 0.0819539\ttotal: 1.13s\tremaining: 4.63s\n",
      "98:\tlearn: 0.0816034\ttotal: 1.14s\tremaining: 4.6s\n",
      "99:\tlearn: 0.0813594\ttotal: 1.15s\tremaining: 4.59s\n",
      "100:\tlearn: 0.0808999\ttotal: 1.16s\tremaining: 4.58s\n",
      "101:\tlearn: 0.0807935\ttotal: 1.17s\tremaining: 4.55s\n",
      "102:\tlearn: 0.0803862\ttotal: 1.18s\tremaining: 4.54s\n",
      "103:\tlearn: 0.0799852\ttotal: 1.19s\tremaining: 4.52s\n",
      "104:\tlearn: 0.0794556\ttotal: 1.2s\tremaining: 4.51s\n",
      "105:\tlearn: 0.0791130\ttotal: 1.21s\tremaining: 4.5s\n",
      "106:\tlearn: 0.0790493\ttotal: 1.21s\tremaining: 4.46s\n",
      "107:\tlearn: 0.0787504\ttotal: 1.23s\tremaining: 4.45s\n",
      "108:\tlearn: 0.0784077\ttotal: 1.24s\tremaining: 4.44s\n",
      "109:\tlearn: 0.0779473\ttotal: 1.25s\tremaining: 4.42s\n",
      "110:\tlearn: 0.0775971\ttotal: 1.26s\tremaining: 4.41s\n",
      "111:\tlearn: 0.0772253\ttotal: 1.27s\tremaining: 4.39s\n",
      "112:\tlearn: 0.0767806\ttotal: 1.28s\tremaining: 4.38s\n",
      "113:\tlearn: 0.0765515\ttotal: 1.29s\tremaining: 4.36s\n",
      "114:\tlearn: 0.0763013\ttotal: 1.3s\tremaining: 4.34s\n",
      "115:\tlearn: 0.0759338\ttotal: 1.31s\tremaining: 4.33s\n",
      "116:\tlearn: 0.0756088\ttotal: 1.32s\tremaining: 4.32s\n",
      "117:\tlearn: 0.0752998\ttotal: 1.33s\tremaining: 4.31s\n",
      "118:\tlearn: 0.0750705\ttotal: 1.34s\tremaining: 4.29s\n",
      "119:\tlearn: 0.0747483\ttotal: 1.35s\tremaining: 4.28s\n",
      "120:\tlearn: 0.0744536\ttotal: 1.36s\tremaining: 4.27s\n",
      "121:\tlearn: 0.0741432\ttotal: 1.38s\tremaining: 4.26s\n",
      "122:\tlearn: 0.0738444\ttotal: 1.38s\tremaining: 4.24s\n",
      "123:\tlearn: 0.0735796\ttotal: 1.4s\tremaining: 4.23s\n",
      "124:\tlearn: 0.0732458\ttotal: 1.41s\tremaining: 4.22s\n",
      "125:\tlearn: 0.0729463\ttotal: 1.42s\tremaining: 4.21s\n",
      "126:\tlearn: 0.0725858\ttotal: 1.43s\tremaining: 4.19s\n",
      "127:\tlearn: 0.0723530\ttotal: 1.44s\tremaining: 4.18s\n",
      "128:\tlearn: 0.0722152\ttotal: 1.45s\tremaining: 4.17s\n",
      "129:\tlearn: 0.0719071\ttotal: 1.46s\tremaining: 4.15s\n",
      "130:\tlearn: 0.0715704\ttotal: 1.47s\tremaining: 4.14s\n",
      "131:\tlearn: 0.0713586\ttotal: 1.48s\tremaining: 4.13s\n",
      "132:\tlearn: 0.0711504\ttotal: 1.49s\tremaining: 4.11s\n",
      "133:\tlearn: 0.0708478\ttotal: 1.5s\tremaining: 4.1s\n",
      "134:\tlearn: 0.0706590\ttotal: 1.51s\tremaining: 4.09s\n",
      "135:\tlearn: 0.0704222\ttotal: 1.52s\tremaining: 4.07s\n",
      "136:\tlearn: 0.0700780\ttotal: 1.53s\tremaining: 4.06s\n",
      "137:\tlearn: 0.0697835\ttotal: 1.54s\tremaining: 4.05s\n",
      "138:\tlearn: 0.0695285\ttotal: 1.55s\tremaining: 4.04s\n",
      "139:\tlearn: 0.0693389\ttotal: 1.56s\tremaining: 4.02s\n",
      "140:\tlearn: 0.0691225\ttotal: 1.58s\tremaining: 4.01s\n",
      "141:\tlearn: 0.0689479\ttotal: 1.58s\tremaining: 4s\n",
      "142:\tlearn: 0.0687606\ttotal: 1.59s\tremaining: 3.98s\n",
      "143:\tlearn: 0.0685448\ttotal: 1.6s\tremaining: 3.97s\n",
      "144:\tlearn: 0.0682191\ttotal: 1.61s\tremaining: 3.96s\n",
      "145:\tlearn: 0.0679662\ttotal: 1.63s\tremaining: 3.94s\n",
      "146:\tlearn: 0.0676967\ttotal: 1.64s\tremaining: 3.93s\n",
      "147:\tlearn: 0.0675760\ttotal: 1.65s\tremaining: 3.92s\n",
      "148:\tlearn: 0.0673321\ttotal: 1.66s\tremaining: 3.9s\n",
      "149:\tlearn: 0.0672953\ttotal: 1.66s\tremaining: 3.88s\n",
      "150:\tlearn: 0.0670739\ttotal: 1.67s\tremaining: 3.86s\n",
      "151:\tlearn: 0.0668574\ttotal: 1.68s\tremaining: 3.85s\n",
      "152:\tlearn: 0.0666854\ttotal: 1.69s\tremaining: 3.84s\n",
      "153:\tlearn: 0.0664900\ttotal: 1.7s\tremaining: 3.83s\n",
      "154:\tlearn: 0.0663440\ttotal: 1.71s\tremaining: 3.81s\n",
      "155:\tlearn: 0.0661058\ttotal: 1.72s\tremaining: 3.8s\n",
      "156:\tlearn: 0.0658550\ttotal: 1.74s\tremaining: 3.79s\n",
      "157:\tlearn: 0.0656508\ttotal: 1.75s\tremaining: 3.78s\n",
      "158:\tlearn: 0.0656138\ttotal: 1.75s\tremaining: 3.75s\n",
      "159:\tlearn: 0.0654439\ttotal: 1.76s\tremaining: 3.74s\n",
      "160:\tlearn: 0.0651991\ttotal: 1.77s\tremaining: 3.73s\n",
      "161:\tlearn: 0.0649307\ttotal: 1.78s\tremaining: 3.72s\n",
      "162:\tlearn: 0.0647792\ttotal: 1.79s\tremaining: 3.71s\n",
      "163:\tlearn: 0.0645569\ttotal: 1.8s\tremaining: 3.69s\n",
      "164:\tlearn: 0.0644769\ttotal: 1.81s\tremaining: 3.68s\n",
      "165:\tlearn: 0.0642542\ttotal: 1.82s\tremaining: 3.67s\n",
      "166:\tlearn: 0.0642063\ttotal: 1.83s\tremaining: 3.65s\n",
      "167:\tlearn: 0.0640369\ttotal: 1.84s\tremaining: 3.63s\n",
      "168:\tlearn: 0.0640131\ttotal: 1.84s\tremaining: 3.61s\n",
      "169:\tlearn: 0.0637282\ttotal: 1.85s\tremaining: 3.6s\n",
      "170:\tlearn: 0.0635387\ttotal: 1.87s\tremaining: 3.59s\n",
      "171:\tlearn: 0.0633339\ttotal: 1.88s\tremaining: 3.58s\n",
      "172:\tlearn: 0.0631773\ttotal: 1.89s\tremaining: 3.57s\n",
      "173:\tlearn: 0.0630345\ttotal: 1.9s\tremaining: 3.56s\n",
      "174:\tlearn: 0.0629156\ttotal: 1.92s\tremaining: 3.56s\n"
     ]
    },
    {
     "name": "stdout",
     "output_type": "stream",
     "text": [
      "175:\tlearn: 0.0627127\ttotal: 1.93s\tremaining: 3.54s\n",
      "176:\tlearn: 0.0625932\ttotal: 1.94s\tremaining: 3.53s\n",
      "177:\tlearn: 0.0624418\ttotal: 1.95s\tremaining: 3.52s\n",
      "178:\tlearn: 0.0623204\ttotal: 1.96s\tremaining: 3.51s\n",
      "179:\tlearn: 0.0621432\ttotal: 1.97s\tremaining: 3.5s\n",
      "180:\tlearn: 0.0619789\ttotal: 1.98s\tremaining: 3.48s\n",
      "181:\tlearn: 0.0617565\ttotal: 1.99s\tremaining: 3.47s\n",
      "182:\tlearn: 0.0616193\ttotal: 2s\tremaining: 3.46s\n",
      "183:\tlearn: 0.0615006\ttotal: 2.01s\tremaining: 3.45s\n",
      "184:\tlearn: 0.0613204\ttotal: 2.02s\tremaining: 3.44s\n",
      "185:\tlearn: 0.0611901\ttotal: 2.03s\tremaining: 3.42s\n",
      "186:\tlearn: 0.0610544\ttotal: 2.04s\tremaining: 3.41s\n",
      "187:\tlearn: 0.0608987\ttotal: 2.05s\tremaining: 3.4s\n",
      "188:\tlearn: 0.0606976\ttotal: 2.06s\tremaining: 3.39s\n",
      "189:\tlearn: 0.0605550\ttotal: 2.07s\tremaining: 3.38s\n",
      "190:\tlearn: 0.0604868\ttotal: 2.08s\tremaining: 3.36s\n",
      "191:\tlearn: 0.0603359\ttotal: 2.09s\tremaining: 3.35s\n",
      "192:\tlearn: 0.0602017\ttotal: 2.1s\tremaining: 3.34s\n",
      "193:\tlearn: 0.0600000\ttotal: 2.11s\tremaining: 3.33s\n",
      "194:\tlearn: 0.0597645\ttotal: 2.12s\tremaining: 3.32s\n",
      "195:\tlearn: 0.0596608\ttotal: 2.13s\tremaining: 3.31s\n",
      "196:\tlearn: 0.0595197\ttotal: 2.15s\tremaining: 3.3s\n",
      "197:\tlearn: 0.0594050\ttotal: 2.16s\tremaining: 3.29s\n",
      "198:\tlearn: 0.0593972\ttotal: 2.16s\tremaining: 3.27s\n",
      "199:\tlearn: 0.0592528\ttotal: 2.17s\tremaining: 3.26s\n",
      "200:\tlearn: 0.0591126\ttotal: 2.19s\tremaining: 3.25s\n",
      "201:\tlearn: 0.0589831\ttotal: 2.2s\tremaining: 3.24s\n",
      "202:\tlearn: 0.0589498\ttotal: 2.2s\tremaining: 3.22s\n",
      "203:\tlearn: 0.0588238\ttotal: 2.21s\tremaining: 3.21s\n",
      "204:\tlearn: 0.0588020\ttotal: 2.22s\tremaining: 3.19s\n",
      "205:\tlearn: 0.0586880\ttotal: 2.23s\tremaining: 3.18s\n",
      "206:\tlearn: 0.0585454\ttotal: 2.24s\tremaining: 3.17s\n",
      "207:\tlearn: 0.0583881\ttotal: 2.25s\tremaining: 3.16s\n",
      "208:\tlearn: 0.0581865\ttotal: 2.26s\tremaining: 3.15s\n",
      "209:\tlearn: 0.0580064\ttotal: 2.27s\tremaining: 3.14s\n",
      "210:\tlearn: 0.0578836\ttotal: 2.28s\tremaining: 3.13s\n",
      "211:\tlearn: 0.0577841\ttotal: 2.29s\tremaining: 3.12s\n",
      "212:\tlearn: 0.0576677\ttotal: 2.3s\tremaining: 3.1s\n",
      "213:\tlearn: 0.0575688\ttotal: 2.31s\tremaining: 3.09s\n",
      "214:\tlearn: 0.0574494\ttotal: 2.32s\tremaining: 3.08s\n",
      "215:\tlearn: 0.0573081\ttotal: 2.33s\tremaining: 3.07s\n",
      "216:\tlearn: 0.0572171\ttotal: 2.35s\tremaining: 3.06s\n",
      "217:\tlearn: 0.0570844\ttotal: 2.35s\tremaining: 3.05s\n",
      "218:\tlearn: 0.0569691\ttotal: 2.37s\tremaining: 3.04s\n",
      "219:\tlearn: 0.0568739\ttotal: 2.38s\tremaining: 3.03s\n",
      "220:\tlearn: 0.0567617\ttotal: 2.39s\tremaining: 3.01s\n",
      "221:\tlearn: 0.0566729\ttotal: 2.4s\tremaining: 3s\n",
      "222:\tlearn: 0.0565005\ttotal: 2.41s\tremaining: 2.99s\n",
      "223:\tlearn: 0.0563727\ttotal: 2.42s\tremaining: 2.98s\n",
      "224:\tlearn: 0.0562445\ttotal: 2.43s\tremaining: 2.97s\n",
      "225:\tlearn: 0.0561869\ttotal: 2.44s\tremaining: 2.96s\n",
      "226:\tlearn: 0.0560332\ttotal: 2.45s\tremaining: 2.95s\n",
      "227:\tlearn: 0.0558881\ttotal: 2.46s\tremaining: 2.93s\n",
      "228:\tlearn: 0.0557750\ttotal: 2.47s\tremaining: 2.92s\n",
      "229:\tlearn: 0.0556857\ttotal: 2.48s\tremaining: 2.91s\n",
      "230:\tlearn: 0.0555401\ttotal: 2.49s\tremaining: 2.9s\n",
      "231:\tlearn: 0.0554952\ttotal: 2.5s\tremaining: 2.89s\n",
      "232:\tlearn: 0.0553871\ttotal: 2.51s\tremaining: 2.88s\n",
      "233:\tlearn: 0.0552612\ttotal: 2.52s\tremaining: 2.87s\n",
      "234:\tlearn: 0.0551584\ttotal: 2.53s\tremaining: 2.85s\n",
      "235:\tlearn: 0.0550689\ttotal: 2.54s\tremaining: 2.85s\n",
      "236:\tlearn: 0.0549808\ttotal: 2.55s\tremaining: 2.83s\n",
      "237:\tlearn: 0.0548993\ttotal: 2.56s\tremaining: 2.82s\n",
      "238:\tlearn: 0.0547502\ttotal: 2.58s\tremaining: 2.81s\n",
      "239:\tlearn: 0.0546404\ttotal: 2.58s\tremaining: 2.8s\n",
      "240:\tlearn: 0.0546313\ttotal: 2.59s\tremaining: 2.78s\n",
      "241:\tlearn: 0.0545615\ttotal: 2.6s\tremaining: 2.77s\n",
      "242:\tlearn: 0.0544714\ttotal: 2.61s\tremaining: 2.76s\n",
      "243:\tlearn: 0.0543430\ttotal: 2.62s\tremaining: 2.75s\n",
      "244:\tlearn: 0.0542490\ttotal: 2.63s\tremaining: 2.74s\n",
      "245:\tlearn: 0.0541138\ttotal: 2.64s\tremaining: 2.73s\n",
      "246:\tlearn: 0.0539921\ttotal: 2.65s\tremaining: 2.72s\n",
      "247:\tlearn: 0.0538616\ttotal: 2.66s\tremaining: 2.71s\n",
      "248:\tlearn: 0.0537787\ttotal: 2.67s\tremaining: 2.69s\n",
      "249:\tlearn: 0.0536445\ttotal: 2.69s\tremaining: 2.69s\n",
      "250:\tlearn: 0.0535754\ttotal: 2.69s\tremaining: 2.67s\n",
      "251:\tlearn: 0.0534742\ttotal: 2.7s\tremaining: 2.66s\n",
      "252:\tlearn: 0.0533764\ttotal: 2.71s\tremaining: 2.65s\n",
      "253:\tlearn: 0.0532303\ttotal: 2.73s\tremaining: 2.64s\n",
      "254:\tlearn: 0.0531263\ttotal: 2.73s\tremaining: 2.63s\n",
      "255:\tlearn: 0.0529803\ttotal: 2.75s\tremaining: 2.62s\n",
      "256:\tlearn: 0.0529623\ttotal: 2.75s\tremaining: 2.6s\n",
      "257:\tlearn: 0.0528652\ttotal: 2.76s\tremaining: 2.59s\n",
      "258:\tlearn: 0.0527824\ttotal: 2.77s\tremaining: 2.58s\n",
      "259:\tlearn: 0.0527004\ttotal: 2.78s\tremaining: 2.57s\n",
      "260:\tlearn: 0.0526453\ttotal: 2.79s\tremaining: 2.55s\n",
      "261:\tlearn: 0.0525417\ttotal: 2.79s\tremaining: 2.54s\n",
      "262:\tlearn: 0.0524442\ttotal: 2.81s\tremaining: 2.53s\n",
      "263:\tlearn: 0.0523435\ttotal: 2.81s\tremaining: 2.52s\n",
      "264:\tlearn: 0.0522588\ttotal: 2.82s\tremaining: 2.5s\n",
      "265:\tlearn: 0.0522007\ttotal: 2.83s\tremaining: 2.49s\n",
      "266:\tlearn: 0.0521417\ttotal: 2.84s\tremaining: 2.48s\n",
      "267:\tlearn: 0.0520624\ttotal: 2.85s\tremaining: 2.47s\n",
      "268:\tlearn: 0.0520620\ttotal: 2.85s\tremaining: 2.45s\n",
      "269:\tlearn: 0.0519501\ttotal: 2.86s\tremaining: 2.44s\n",
      "270:\tlearn: 0.0518435\ttotal: 2.87s\tremaining: 2.43s\n",
      "271:\tlearn: 0.0517664\ttotal: 2.88s\tremaining: 2.42s\n",
      "272:\tlearn: 0.0517103\ttotal: 2.89s\tremaining: 2.4s\n",
      "273:\tlearn: 0.0516419\ttotal: 2.9s\tremaining: 2.39s\n",
      "274:\tlearn: 0.0515123\ttotal: 2.91s\tremaining: 2.38s\n",
      "275:\tlearn: 0.0514239\ttotal: 2.92s\tremaining: 2.37s\n",
      "276:\tlearn: 0.0513190\ttotal: 2.93s\tremaining: 2.36s\n",
      "277:\tlearn: 0.0512356\ttotal: 2.94s\tremaining: 2.35s\n",
      "278:\tlearn: 0.0511444\ttotal: 2.95s\tremaining: 2.34s\n",
      "279:\tlearn: 0.0510564\ttotal: 2.96s\tremaining: 2.33s\n",
      "280:\tlearn: 0.0510527\ttotal: 2.96s\tremaining: 2.31s\n",
      "281:\tlearn: 0.0509809\ttotal: 2.97s\tremaining: 2.3s\n",
      "282:\tlearn: 0.0508944\ttotal: 2.98s\tremaining: 2.29s\n",
      "283:\tlearn: 0.0507941\ttotal: 2.99s\tremaining: 2.27s\n",
      "284:\tlearn: 0.0507106\ttotal: 3s\tremaining: 2.26s\n",
      "285:\tlearn: 0.0505960\ttotal: 3.01s\tremaining: 2.25s\n",
      "286:\tlearn: 0.0504708\ttotal: 3.02s\tremaining: 2.24s\n",
      "287:\tlearn: 0.0504099\ttotal: 3.03s\tremaining: 2.23s\n",
      "288:\tlearn: 0.0503294\ttotal: 3.04s\tremaining: 2.22s\n",
      "289:\tlearn: 0.0502007\ttotal: 3.05s\tremaining: 2.21s\n",
      "290:\tlearn: 0.0500951\ttotal: 3.06s\tremaining: 2.2s\n",
      "291:\tlearn: 0.0499719\ttotal: 3.07s\tremaining: 2.19s\n",
      "292:\tlearn: 0.0499719\ttotal: 3.07s\tremaining: 2.17s\n",
      "293:\tlearn: 0.0498997\ttotal: 3.08s\tremaining: 2.16s\n",
      "294:\tlearn: 0.0498133\ttotal: 3.09s\tremaining: 2.15s\n",
      "295:\tlearn: 0.0497139\ttotal: 3.1s\tremaining: 2.14s\n",
      "296:\tlearn: 0.0496266\ttotal: 3.11s\tremaining: 2.13s\n",
      "297:\tlearn: 0.0495449\ttotal: 3.12s\tremaining: 2.12s\n",
      "298:\tlearn: 0.0494305\ttotal: 3.13s\tremaining: 2.1s\n",
      "299:\tlearn: 0.0493822\ttotal: 3.14s\tremaining: 2.09s\n",
      "300:\tlearn: 0.0492665\ttotal: 3.15s\tremaining: 2.08s\n",
      "301:\tlearn: 0.0492244\ttotal: 3.16s\tremaining: 2.07s\n",
      "302:\tlearn: 0.0491470\ttotal: 3.17s\tremaining: 2.06s\n",
      "303:\tlearn: 0.0490537\ttotal: 3.18s\tremaining: 2.05s\n",
      "304:\tlearn: 0.0490163\ttotal: 3.19s\tremaining: 2.04s\n",
      "305:\tlearn: 0.0489319\ttotal: 3.2s\tremaining: 2.03s\n",
      "306:\tlearn: 0.0488539\ttotal: 3.21s\tremaining: 2.02s\n",
      "307:\tlearn: 0.0487901\ttotal: 3.21s\tremaining: 2s\n",
      "308:\tlearn: 0.0487073\ttotal: 3.22s\tremaining: 1.99s\n",
      "309:\tlearn: 0.0486460\ttotal: 3.23s\tremaining: 1.98s\n",
      "310:\tlearn: 0.0485301\ttotal: 3.24s\tremaining: 1.97s\n",
      "311:\tlearn: 0.0484654\ttotal: 3.25s\tremaining: 1.96s\n",
      "312:\tlearn: 0.0484016\ttotal: 3.26s\tremaining: 1.95s\n",
      "313:\tlearn: 0.0482772\ttotal: 3.27s\tremaining: 1.94s\n",
      "314:\tlearn: 0.0481982\ttotal: 3.28s\tremaining: 1.93s\n",
      "315:\tlearn: 0.0481008\ttotal: 3.29s\tremaining: 1.92s\n",
      "316:\tlearn: 0.0480320\ttotal: 3.3s\tremaining: 1.91s\n",
      "317:\tlearn: 0.0479498\ttotal: 3.31s\tremaining: 1.89s\n",
      "318:\tlearn: 0.0478828\ttotal: 3.32s\tremaining: 1.88s\n",
      "319:\tlearn: 0.0478202\ttotal: 3.33s\tremaining: 1.87s\n",
      "320:\tlearn: 0.0477355\ttotal: 3.34s\tremaining: 1.86s\n",
      "321:\tlearn: 0.0476363\ttotal: 3.35s\tremaining: 1.85s\n",
      "322:\tlearn: 0.0475509\ttotal: 3.36s\tremaining: 1.84s\n",
      "323:\tlearn: 0.0474824\ttotal: 3.37s\tremaining: 1.83s\n",
      "324:\tlearn: 0.0474161\ttotal: 3.38s\tremaining: 1.82s\n",
      "325:\tlearn: 0.0473572\ttotal: 3.38s\tremaining: 1.81s\n",
      "326:\tlearn: 0.0472999\ttotal: 3.39s\tremaining: 1.79s\n",
      "327:\tlearn: 0.0472226\ttotal: 3.4s\tremaining: 1.78s\n",
      "328:\tlearn: 0.0471536\ttotal: 3.41s\tremaining: 1.77s\n",
      "329:\tlearn: 0.0470337\ttotal: 3.42s\tremaining: 1.76s\n",
      "330:\tlearn: 0.0469780\ttotal: 3.43s\tremaining: 1.75s\n",
      "331:\tlearn: 0.0469174\ttotal: 3.44s\tremaining: 1.74s\n",
      "332:\tlearn: 0.0468616\ttotal: 3.45s\tremaining: 1.73s\n",
      "333:\tlearn: 0.0468115\ttotal: 3.46s\tremaining: 1.72s\n",
      "334:\tlearn: 0.0467613\ttotal: 3.47s\tremaining: 1.71s\n",
      "335:\tlearn: 0.0466936\ttotal: 3.48s\tremaining: 1.7s\n",
      "336:\tlearn: 0.0466216\ttotal: 3.49s\tremaining: 1.69s\n",
      "337:\tlearn: 0.0465798\ttotal: 3.5s\tremaining: 1.68s\n",
      "338:\tlearn: 0.0465412\ttotal: 3.51s\tremaining: 1.67s\n",
      "339:\tlearn: 0.0464640\ttotal: 3.52s\tremaining: 1.66s\n",
      "340:\tlearn: 0.0463750\ttotal: 3.53s\tremaining: 1.65s\n",
      "341:\tlearn: 0.0463076\ttotal: 3.54s\tremaining: 1.63s\n",
      "342:\tlearn: 0.0462221\ttotal: 3.55s\tremaining: 1.62s\n",
      "343:\tlearn: 0.0461643\ttotal: 3.56s\tremaining: 1.61s\n",
      "344:\tlearn: 0.0461001\ttotal: 3.57s\tremaining: 1.6s\n",
      "345:\tlearn: 0.0460564\ttotal: 3.58s\tremaining: 1.59s\n",
      "346:\tlearn: 0.0460036\ttotal: 3.58s\tremaining: 1.58s\n",
      "347:\tlearn: 0.0459274\ttotal: 3.59s\tremaining: 1.57s\n",
      "348:\tlearn: 0.0458647\ttotal: 3.6s\tremaining: 1.56s\n",
      "349:\tlearn: 0.0458222\ttotal: 3.61s\tremaining: 1.55s\n",
      "350:\tlearn: 0.0457569\ttotal: 3.62s\tremaining: 1.54s\n"
     ]
    },
    {
     "name": "stdout",
     "output_type": "stream",
     "text": [
      "351:\tlearn: 0.0456913\ttotal: 3.63s\tremaining: 1.53s\n",
      "352:\tlearn: 0.0456347\ttotal: 3.64s\tremaining: 1.52s\n",
      "353:\tlearn: 0.0455785\ttotal: 3.65s\tremaining: 1.5s\n",
      "354:\tlearn: 0.0454730\ttotal: 3.66s\tremaining: 1.5s\n",
      "355:\tlearn: 0.0454034\ttotal: 3.67s\tremaining: 1.48s\n",
      "356:\tlearn: 0.0453356\ttotal: 3.68s\tremaining: 1.47s\n",
      "357:\tlearn: 0.0452557\ttotal: 3.69s\tremaining: 1.46s\n",
      "358:\tlearn: 0.0452041\ttotal: 3.7s\tremaining: 1.45s\n",
      "359:\tlearn: 0.0451352\ttotal: 3.71s\tremaining: 1.44s\n",
      "360:\tlearn: 0.0450802\ttotal: 3.72s\tremaining: 1.43s\n",
      "361:\tlearn: 0.0450228\ttotal: 3.73s\tremaining: 1.42s\n",
      "362:\tlearn: 0.0449617\ttotal: 3.73s\tremaining: 1.41s\n",
      "363:\tlearn: 0.0448834\ttotal: 3.74s\tremaining: 1.4s\n",
      "364:\tlearn: 0.0447893\ttotal: 3.75s\tremaining: 1.39s\n",
      "365:\tlearn: 0.0447481\ttotal: 3.76s\tremaining: 1.38s\n",
      "366:\tlearn: 0.0446728\ttotal: 3.77s\tremaining: 1.37s\n",
      "367:\tlearn: 0.0446294\ttotal: 3.78s\tremaining: 1.36s\n",
      "368:\tlearn: 0.0445808\ttotal: 3.79s\tremaining: 1.35s\n",
      "369:\tlearn: 0.0445210\ttotal: 3.8s\tremaining: 1.33s\n",
      "370:\tlearn: 0.0444751\ttotal: 3.81s\tremaining: 1.32s\n",
      "371:\tlearn: 0.0444166\ttotal: 3.82s\tremaining: 1.31s\n",
      "372:\tlearn: 0.0443720\ttotal: 3.83s\tremaining: 1.3s\n",
      "373:\tlearn: 0.0442935\ttotal: 3.84s\tremaining: 1.29s\n",
      "374:\tlearn: 0.0442143\ttotal: 3.85s\tremaining: 1.28s\n",
      "375:\tlearn: 0.0441634\ttotal: 3.86s\tremaining: 1.27s\n",
      "376:\tlearn: 0.0440775\ttotal: 3.87s\tremaining: 1.26s\n",
      "377:\tlearn: 0.0440260\ttotal: 3.88s\tremaining: 1.25s\n",
      "378:\tlearn: 0.0439957\ttotal: 3.89s\tremaining: 1.24s\n",
      "379:\tlearn: 0.0439307\ttotal: 3.9s\tremaining: 1.23s\n",
      "380:\tlearn: 0.0438463\ttotal: 3.9s\tremaining: 1.22s\n",
      "381:\tlearn: 0.0437771\ttotal: 3.91s\tremaining: 1.21s\n",
      "382:\tlearn: 0.0437104\ttotal: 3.92s\tremaining: 1.2s\n",
      "383:\tlearn: 0.0436629\ttotal: 3.93s\tremaining: 1.19s\n",
      "384:\tlearn: 0.0435795\ttotal: 3.94s\tremaining: 1.18s\n",
      "385:\tlearn: 0.0435221\ttotal: 3.95s\tremaining: 1.17s\n",
      "386:\tlearn: 0.0434850\ttotal: 3.96s\tremaining: 1.16s\n",
      "387:\tlearn: 0.0434443\ttotal: 3.97s\tremaining: 1.15s\n",
      "388:\tlearn: 0.0433728\ttotal: 3.98s\tremaining: 1.14s\n",
      "389:\tlearn: 0.0433310\ttotal: 3.99s\tremaining: 1.13s\n",
      "390:\tlearn: 0.0432671\ttotal: 4s\tremaining: 1.11s\n",
      "391:\tlearn: 0.0432127\ttotal: 4.01s\tremaining: 1.1s\n",
      "392:\tlearn: 0.0431613\ttotal: 4.02s\tremaining: 1.09s\n",
      "393:\tlearn: 0.0431032\ttotal: 4.03s\tremaining: 1.08s\n",
      "394:\tlearn: 0.0430524\ttotal: 4.04s\tremaining: 1.07s\n",
      "395:\tlearn: 0.0430066\ttotal: 4.05s\tremaining: 1.06s\n",
      "396:\tlearn: 0.0429451\ttotal: 4.06s\tremaining: 1.05s\n",
      "397:\tlearn: 0.0428996\ttotal: 4.07s\tremaining: 1.04s\n",
      "398:\tlearn: 0.0428384\ttotal: 4.08s\tremaining: 1.03s\n",
      "399:\tlearn: 0.0428037\ttotal: 4.08s\tremaining: 1.02s\n",
      "400:\tlearn: 0.0427612\ttotal: 4.09s\tremaining: 1.01s\n",
      "401:\tlearn: 0.0427169\ttotal: 4.1s\tremaining: 1s\n",
      "402:\tlearn: 0.0426510\ttotal: 4.11s\tremaining: 990ms\n",
      "403:\tlearn: 0.0425691\ttotal: 4.13s\tremaining: 980ms\n",
      "404:\tlearn: 0.0425278\ttotal: 4.13s\tremaining: 970ms\n",
      "405:\tlearn: 0.0424735\ttotal: 4.14s\tremaining: 960ms\n",
      "406:\tlearn: 0.0424408\ttotal: 4.15s\tremaining: 949ms\n",
      "407:\tlearn: 0.0423852\ttotal: 4.17s\tremaining: 939ms\n",
      "408:\tlearn: 0.0423388\ttotal: 4.17s\tremaining: 929ms\n",
      "409:\tlearn: 0.0423035\ttotal: 4.18s\tremaining: 919ms\n",
      "410:\tlearn: 0.0422723\ttotal: 4.19s\tremaining: 908ms\n",
      "411:\tlearn: 0.0421981\ttotal: 4.21s\tremaining: 898ms\n",
      "412:\tlearn: 0.0421581\ttotal: 4.21s\tremaining: 888ms\n",
      "413:\tlearn: 0.0421239\ttotal: 4.22s\tremaining: 877ms\n",
      "414:\tlearn: 0.0420751\ttotal: 4.23s\tremaining: 867ms\n",
      "415:\tlearn: 0.0420083\ttotal: 4.25s\tremaining: 857ms\n",
      "416:\tlearn: 0.0419315\ttotal: 4.25s\tremaining: 847ms\n",
      "417:\tlearn: 0.0418802\ttotal: 4.26s\tremaining: 837ms\n",
      "418:\tlearn: 0.0418466\ttotal: 4.28s\tremaining: 826ms\n",
      "419:\tlearn: 0.0417934\ttotal: 4.28s\tremaining: 816ms\n",
      "420:\tlearn: 0.0417413\ttotal: 4.29s\tremaining: 805ms\n",
      "421:\tlearn: 0.0416688\ttotal: 4.3s\tremaining: 795ms\n",
      "422:\tlearn: 0.0416298\ttotal: 4.31s\tremaining: 785ms\n",
      "423:\tlearn: 0.0415604\ttotal: 4.32s\tremaining: 775ms\n",
      "424:\tlearn: 0.0415240\ttotal: 4.33s\tremaining: 764ms\n",
      "425:\tlearn: 0.0414789\ttotal: 4.34s\tremaining: 754ms\n",
      "426:\tlearn: 0.0414171\ttotal: 4.35s\tremaining: 743ms\n",
      "427:\tlearn: 0.0413820\ttotal: 4.36s\tremaining: 733ms\n",
      "428:\tlearn: 0.0413486\ttotal: 4.37s\tremaining: 723ms\n",
      "429:\tlearn: 0.0413157\ttotal: 4.38s\tremaining: 712ms\n",
      "430:\tlearn: 0.0412737\ttotal: 4.39s\tremaining: 702ms\n",
      "431:\tlearn: 0.0412478\ttotal: 4.39s\tremaining: 692ms\n",
      "432:\tlearn: 0.0411801\ttotal: 4.4s\tremaining: 682ms\n",
      "433:\tlearn: 0.0411148\ttotal: 4.42s\tremaining: 672ms\n",
      "434:\tlearn: 0.0410797\ttotal: 4.42s\tremaining: 661ms\n",
      "435:\tlearn: 0.0410374\ttotal: 4.43s\tremaining: 651ms\n",
      "436:\tlearn: 0.0409761\ttotal: 4.45s\tremaining: 641ms\n",
      "437:\tlearn: 0.0409509\ttotal: 4.46s\tremaining: 631ms\n",
      "438:\tlearn: 0.0408978\ttotal: 4.46s\tremaining: 620ms\n",
      "439:\tlearn: 0.0408554\ttotal: 4.47s\tremaining: 610ms\n",
      "440:\tlearn: 0.0408158\ttotal: 4.48s\tremaining: 600ms\n",
      "441:\tlearn: 0.0407916\ttotal: 4.49s\tremaining: 590ms\n",
      "442:\tlearn: 0.0407332\ttotal: 4.5s\tremaining: 579ms\n",
      "443:\tlearn: 0.0407070\ttotal: 4.51s\tremaining: 569ms\n",
      "444:\tlearn: 0.0406367\ttotal: 4.52s\tremaining: 559ms\n",
      "445:\tlearn: 0.0406133\ttotal: 4.53s\tremaining: 549ms\n",
      "446:\tlearn: 0.0405601\ttotal: 4.54s\tremaining: 539ms\n",
      "447:\tlearn: 0.0405145\ttotal: 4.55s\tremaining: 529ms\n",
      "448:\tlearn: 0.0404750\ttotal: 4.56s\tremaining: 518ms\n",
      "449:\tlearn: 0.0404310\ttotal: 4.57s\tremaining: 508ms\n",
      "450:\tlearn: 0.0403660\ttotal: 4.58s\tremaining: 498ms\n",
      "451:\tlearn: 0.0403355\ttotal: 4.59s\tremaining: 488ms\n",
      "452:\tlearn: 0.0402669\ttotal: 4.6s\tremaining: 478ms\n",
      "453:\tlearn: 0.0402114\ttotal: 4.61s\tremaining: 467ms\n",
      "454:\tlearn: 0.0401759\ttotal: 4.62s\tremaining: 457ms\n",
      "455:\tlearn: 0.0401203\ttotal: 4.63s\tremaining: 447ms\n",
      "456:\tlearn: 0.0400793\ttotal: 4.64s\tremaining: 437ms\n",
      "457:\tlearn: 0.0400150\ttotal: 4.65s\tremaining: 427ms\n",
      "458:\tlearn: 0.0399678\ttotal: 4.66s\tremaining: 416ms\n",
      "459:\tlearn: 0.0399078\ttotal: 4.67s\tremaining: 406ms\n",
      "460:\tlearn: 0.0398816\ttotal: 4.68s\tremaining: 396ms\n",
      "461:\tlearn: 0.0398466\ttotal: 4.69s\tremaining: 386ms\n",
      "462:\tlearn: 0.0398208\ttotal: 4.7s\tremaining: 376ms\n",
      "463:\tlearn: 0.0397943\ttotal: 4.71s\tremaining: 366ms\n",
      "464:\tlearn: 0.0397557\ttotal: 4.72s\tremaining: 355ms\n",
      "465:\tlearn: 0.0397255\ttotal: 4.73s\tremaining: 345ms\n",
      "466:\tlearn: 0.0396814\ttotal: 4.74s\tremaining: 335ms\n",
      "467:\tlearn: 0.0396233\ttotal: 4.75s\tremaining: 325ms\n",
      "468:\tlearn: 0.0396024\ttotal: 4.76s\tremaining: 315ms\n",
      "469:\tlearn: 0.0395414\ttotal: 4.77s\tremaining: 305ms\n",
      "470:\tlearn: 0.0394699\ttotal: 4.78s\tremaining: 294ms\n",
      "471:\tlearn: 0.0394300\ttotal: 4.79s\tremaining: 284ms\n",
      "472:\tlearn: 0.0393632\ttotal: 4.8s\tremaining: 274ms\n",
      "473:\tlearn: 0.0393171\ttotal: 4.81s\tremaining: 264ms\n",
      "474:\tlearn: 0.0392930\ttotal: 4.82s\tremaining: 254ms\n",
      "475:\tlearn: 0.0392509\ttotal: 4.83s\tremaining: 244ms\n",
      "476:\tlearn: 0.0392002\ttotal: 4.84s\tremaining: 234ms\n",
      "477:\tlearn: 0.0391471\ttotal: 4.86s\tremaining: 223ms\n",
      "478:\tlearn: 0.0391149\ttotal: 4.87s\tremaining: 213ms\n",
      "479:\tlearn: 0.0390593\ttotal: 4.88s\tremaining: 203ms\n",
      "480:\tlearn: 0.0390314\ttotal: 4.89s\tremaining: 193ms\n",
      "481:\tlearn: 0.0390088\ttotal: 4.9s\tremaining: 183ms\n",
      "482:\tlearn: 0.0389518\ttotal: 4.91s\tremaining: 173ms\n",
      "483:\tlearn: 0.0389056\ttotal: 4.92s\tremaining: 163ms\n",
      "484:\tlearn: 0.0388842\ttotal: 4.93s\tremaining: 152ms\n",
      "485:\tlearn: 0.0388476\ttotal: 4.94s\tremaining: 142ms\n",
      "486:\tlearn: 0.0388075\ttotal: 4.95s\tremaining: 132ms\n",
      "487:\tlearn: 0.0387810\ttotal: 4.95s\tremaining: 122ms\n",
      "488:\tlearn: 0.0387263\ttotal: 4.96s\tremaining: 112ms\n",
      "489:\tlearn: 0.0386649\ttotal: 4.97s\tremaining: 101ms\n",
      "490:\tlearn: 0.0386334\ttotal: 4.98s\tremaining: 91.3ms\n",
      "491:\tlearn: 0.0385716\ttotal: 4.99s\tremaining: 81.2ms\n",
      "492:\tlearn: 0.0385422\ttotal: 5s\tremaining: 71ms\n",
      "493:\tlearn: 0.0384955\ttotal: 5.01s\tremaining: 60.8ms\n",
      "494:\tlearn: 0.0384513\ttotal: 5.02s\tremaining: 50.7ms\n",
      "495:\tlearn: 0.0383939\ttotal: 5.03s\tremaining: 40.5ms\n",
      "496:\tlearn: 0.0383634\ttotal: 5.03s\tremaining: 30.4ms\n",
      "497:\tlearn: 0.0383284\ttotal: 5.04s\tremaining: 20.3ms\n",
      "498:\tlearn: 0.0382763\ttotal: 5.05s\tremaining: 10.1ms\n",
      "499:\tlearn: 0.0382244\ttotal: 5.06s\tremaining: 0us\n"
     ]
    }
   ],
   "source": [
    "catb_tuned = CatBoostClassifier(depth= 10, \n",
    "                                iterations= 500, \n",
    "                                learning_rate= 0.03).fit(X_train, y_train)"
   ]
  },
  {
   "cell_type": "code",
   "execution_count": 17,
   "id": "d88ebf09",
   "metadata": {},
   "outputs": [],
   "source": [
    "y_pred = catb_tuned.predict(X_test)"
   ]
  },
  {
   "cell_type": "code",
   "execution_count": 18,
   "id": "ce873270",
   "metadata": {
    "scrolled": true
   },
   "outputs": [
    {
     "data": {
      "text/plain": [
       "0.9751515151515151"
      ]
     },
     "execution_count": 18,
     "metadata": {},
     "output_type": "execute_result"
    }
   ],
   "source": [
    "accuracy_score(y_test, y_pred)"
   ]
  },
  {
   "cell_type": "code",
   "execution_count": 21,
   "id": "11b2f5d3",
   "metadata": {
    "scrolled": false
   },
   "outputs": [
    {
     "data": {
      "image/png": "[encoded data removed]",
      "text/plain": [
       "<Figure size 432x288 with 1 Axes>"
      ]
     },
     "metadata": {
      "needs_background": "light"
     },
     "output_type": "display_data"
    }
   ],
   "source": [
    "import seaborn as sns\n",
    "\n",
    "feature_imp = pd.Series(catb_tuned.feature_importances_,\n",
    "                        index=X_train.columns).sort_values(ascending=False)\n",
    "\n",
    "sns.barplot(x=feature_imp, y=feature_imp.index)\n",
    "plt.xlabel('Feature Importances')\n",
    "plt.ylabel('Features')\n",
    "plt.title(\"Feature Importances (CatBoost)\")\n",
    "plt.show()"
   ]
  },
  {
   "cell_type": "code",
   "execution_count": 26,
   "id": "3879bcaf",
   "metadata": {
    "scrolled": true
   },
   "outputs": [
    {
     "data": {
      "image/png": "[encoded data removed]",
      "text/plain": [
       "<Figure size 1152x576 with 1 Axes>"
      ]
     },
     "metadata": {
      "needs_background": "light"
     },
     "output_type": "display_data"
    }
   ],
   "source": [
    "from catboost.utils import get_roc_curve\n",
    "catboost_pool = Pool(X_train, y_train)\n",
    "(fpr, tpr, thresholds) = get_roc_curve(catb_tuned, catboost_pool, plot=True)"
   ]
  },
  {
   "cell_type": "code",
   "execution_count": 28,
   "id": "90a59330",
   "metadata": {
    "scrolled": true
   },
   "outputs": [
    {
     "name": "stdout",
     "output_type": "stream",
     "text": [
      "[0.         0.         0.         ... 0.99983429 0.99991714 1.        ]\n",
      "[0.00000000e+00 7.19165768e-04 1.07874865e-03 ... 1.00000000e+00\n",
      " 1.00000000e+00 1.00000000e+00]\n"
     ]
    }
   ],
   "source": [
    "print(fpr)\n",
    "print(tpr)"
   ]
  },
  {
   "cell_type": "code",
   "execution_count": 30,
   "id": "4739a236",
   "metadata": {},
   "outputs": [
    {
     "data": {
      "image/png": "[encoded data removed]",
      "text/plain": [
       "<Figure size 432x288 with 1 Axes>"
      ]
     },
     "metadata": {
      "needs_background": "light"
     },
     "output_type": "display_data"
    }
   ],
   "source": [
    "logit_roc_auc = roc_auc_score(y_test, catb_tuned.predict(X_test))\n",
    "fpr, tpr, thresholds = roc_curve(y_test, catb_tuned.predict_proba(X_test)[:,1])\n",
    "plt.figure()\n",
    "plt.plot(fpr, tpr, label='AUC (area = %0.2f)' % logit_roc_auc)\n",
    "plt.plot([0, 1], [0, 1],'r--')\n",
    "plt.xlim([0.0, 1.0])\n",
    "plt.ylim([0.0, 1.05])\n",
    "plt.xlabel('False Positive Rate')\n",
    "plt.ylabel('True Positive Rate')\n",
    "plt.title('ROC Curve')\n",
    "plt.legend(loc=\"lower right\")\n",
    "plt.savefig('Log_ROC')\n",
    "plt.show()"
   ]
  }
 ],
 "metadata": {
  "kernelspec": {
   "display_name": "Python 3",
   "language": "python",
   "name": "python3"
  },
  "language_info": {
   "codemirror_mode": {
    "name": "ipython",
    "version": 3
   },
   "file_extension": ".py",
   "mimetype": "text/x-python",
   "name": "python",
   "nbconvert_exporter": "python",
   "pygments_lexer": "ipython3",
   "version": "3.8.8"
  }
 },
 "nbformat": 4,
 "nbformat_minor": 5
}
