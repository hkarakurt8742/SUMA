{
 "cells": [
  {
   "cell_type": "code",
   "execution_count": 1,
   "id": "a3389e39-1a85-4586-9596-4da2a96e6819",
   "metadata": {},
   "outputs": [],
   "source": [
    "import numpy as np\n",
    "import pandas as pd\n",
    "\n",
    "from sklearn.model_selection import train_test_split\n",
    "\n",
    "import matplotlib.pyplot as plt\n",
    "from sklearn.metrics import confusion_matrix, accuracy_score, mean_squared_error, r2_score, roc_auc_score, roc_curve, classification_report\n",
    "from sklearn.model_selection import train_test_split, GridSearchCV, cross_val_score\n",
    "from sklearn.ensemble import RandomForestRegressor"
   ]
  },
  {
   "cell_type": "markdown",
   "id": "e0642a35-3221-42ea-85c2-e1226940724d",
   "metadata": {},
   "source": [
    "#### Data Import (Preprocessed using R)"
   ]
  },
  {
   "cell_type": "code",
   "execution_count": 2,
   "id": "4f820a01-2509-488c-9a0b-1256468235c2",
   "metadata": {
    "tags": []
   },
   "outputs": [],
   "source": [
    "encoded_results = pd.read_csv(\"oh_encoded_classification_data_65.txt\" , sep = \"\\t\")\n",
    "encoded_results_80 = pd.read_csv(\"oh_encoded_classification_data_80.txt\" , sep = \"\\t\")"
   ]
  },
  {
   "cell_type": "code",
   "execution_count": 3,
   "id": "fc92a6b1-4baa-47e6-ab70-ef5e9927c016",
   "metadata": {
    "tags": []
   },
   "outputs": [
    {
     "data": {
      "text/html": [
       "<div>\n",
       "<style scoped>\n",
       "    .dataframe tbody tr th:only-of-type {\n",
       "        vertical-align: middle;\n",
       "    }\n",
       "\n",
       "    .dataframe tbody tr th {\n",
       "        vertical-align: top;\n",
       "    }\n",
       "\n",
       "    .dataframe thead th {\n",
       "        text-align: right;\n",
       "    }\n",
       "</style>\n",
       "<table border=\"1\" class=\"dataframe\">\n",
       "  <thead>\n",
       "    <tr style=\"text-align: right;\">\n",
       "      <th></th>\n",
       "      <th>Number_of_Neighbours</th>\n",
       "      <th>Number_of_PCs</th>\n",
       "      <th>Number_of_Cells</th>\n",
       "      <th>Number_of_HVGs</th>\n",
       "      <th>Algorithm.Leiden</th>\n",
       "      <th>Algorithm.Louvain</th>\n",
       "      <th>Algorithm.Walktrap</th>\n",
       "      <th>Exp_Type.Droplet</th>\n",
       "      <th>acceptable_ari</th>\n",
       "    </tr>\n",
       "  </thead>\n",
       "  <tbody>\n",
       "    <tr>\n",
       "      <th>0</th>\n",
       "      <td>1</td>\n",
       "      <td>15</td>\n",
       "      <td>2500</td>\n",
       "      <td>500</td>\n",
       "      <td>0</td>\n",
       "      <td>0</td>\n",
       "      <td>1</td>\n",
       "      <td>1</td>\n",
       "      <td>0</td>\n",
       "    </tr>\n",
       "    <tr>\n",
       "      <th>1</th>\n",
       "      <td>2</td>\n",
       "      <td>15</td>\n",
       "      <td>2500</td>\n",
       "      <td>500</td>\n",
       "      <td>0</td>\n",
       "      <td>0</td>\n",
       "      <td>1</td>\n",
       "      <td>1</td>\n",
       "      <td>0</td>\n",
       "    </tr>\n",
       "    <tr>\n",
       "      <th>2</th>\n",
       "      <td>3</td>\n",
       "      <td>15</td>\n",
       "      <td>2500</td>\n",
       "      <td>500</td>\n",
       "      <td>0</td>\n",
       "      <td>0</td>\n",
       "      <td>1</td>\n",
       "      <td>1</td>\n",
       "      <td>0</td>\n",
       "    </tr>\n",
       "    <tr>\n",
       "      <th>3</th>\n",
       "      <td>4</td>\n",
       "      <td>15</td>\n",
       "      <td>2500</td>\n",
       "      <td>500</td>\n",
       "      <td>0</td>\n",
       "      <td>0</td>\n",
       "      <td>1</td>\n",
       "      <td>1</td>\n",
       "      <td>0</td>\n",
       "    </tr>\n",
       "    <tr>\n",
       "      <th>4</th>\n",
       "      <td>5</td>\n",
       "      <td>15</td>\n",
       "      <td>2500</td>\n",
       "      <td>500</td>\n",
       "      <td>0</td>\n",
       "      <td>0</td>\n",
       "      <td>1</td>\n",
       "      <td>1</td>\n",
       "      <td>0</td>\n",
       "    </tr>\n",
       "  </tbody>\n",
       "</table>\n",
       "</div>"
      ],
      "text/plain": [
       "   Number_of_Neighbours  Number_of_PCs  Number_of_Cells  Number_of_HVGs  \\\n",
       "0                     1             15             2500             500   \n",
       "1                     2             15             2500             500   \n",
       "2                     3             15             2500             500   \n",
       "3                     4             15             2500             500   \n",
       "4                     5             15             2500             500   \n",
       "\n",
       "   Algorithm.Leiden  Algorithm.Louvain  Algorithm.Walktrap  Exp_Type.Droplet  \\\n",
       "0                 0                  0                   1                 1   \n",
       "1                 0                  0                   1                 1   \n",
       "2                 0                  0                   1                 1   \n",
       "3                 0                  0                   1                 1   \n",
       "4                 0                  0                   1                 1   \n",
       "\n",
       "   acceptable_ari  \n",
       "0               0  \n",
       "1               0  \n",
       "2               0  \n",
       "3               0  \n",
       "4               0  "
      ]
     },
     "execution_count": 3,
     "metadata": {},
     "output_type": "execute_result"
    }
   ],
   "source": [
    "encoded_results.head()"
   ]
  },
  {
   "cell_type": "code",
   "execution_count": 4,
   "id": "1e79cc4d-ce73-4561-9d45-dc84a61b69a1",
   "metadata": {},
   "outputs": [],
   "source": [
    "labels = encoded_results[\"acceptable_ari\"]\n",
    "labels_80 = encoded_results_80[\"acceptable_ari\"]"
   ]
  },
  {
   "cell_type": "code",
   "execution_count": 5,
   "id": "363737bb-3e6e-450e-ab62-e668b953d726",
   "metadata": {},
   "outputs": [],
   "source": [
    "features = encoded_results.drop([\"acceptable_ari\"] , axis = 1)"
   ]
  },
  {
   "cell_type": "code",
   "execution_count": 6,
   "id": "2d6e0cab-ad2a-4e72-9a18-649e978c88ac",
   "metadata": {},
   "outputs": [],
   "source": [
    "X_train, X_test, y_train, y_test = train_test_split(features, labels ,test_size=.25,random_state = 25)"
   ]
  },
  {
   "cell_type": "code",
   "execution_count": 7,
   "id": "9ec9799a-ea26-431a-bf80-e79366ae1fc2",
   "metadata": {},
   "outputs": [
    {
     "data": {
      "text/plain": [
       "5589"
      ]
     },
     "execution_count": 7,
     "metadata": {},
     "output_type": "execute_result"
    }
   ],
   "source": [
    "y_train.sum()"
   ]
  },
  {
   "cell_type": "code",
   "execution_count": 8,
   "id": "44f6558b-8cfc-45ed-bb56-1679a777e6ed",
   "metadata": {},
   "outputs": [
    {
     "data": {
      "text/plain": [
       "1864"
      ]
     },
     "execution_count": 8,
     "metadata": {},
     "output_type": "execute_result"
    }
   ],
   "source": [
    "y_test.sum()"
   ]
  },
  {
   "cell_type": "markdown",
   "id": "d78df72b-fe54-46a2-a543-2d5b830a5037",
   "metadata": {},
   "source": [
    "#### RandomForest Algorithm"
   ]
  },
  {
   "cell_type": "code",
   "execution_count": 9,
   "id": "738605c7-bd58-447f-9853-3cb46d1ab866",
   "metadata": {
    "tags": []
   },
   "outputs": [],
   "source": [
    "rf_model = RandomForestRegressor()"
   ]
  },
  {
   "cell_type": "code",
   "execution_count": null,
   "id": "bc5fe8fe-5b53-4049-818c-43a78fb29628",
   "metadata": {},
   "outputs": [],
   "source": [
    "rf_params = {\"max_depth\" : [3,5,7,8,10,12,15] , \"max_features\" : [2,3,5,10,12,15] , \n",
    "             \"n_estimators\": [50,100,200,400,500,800,1000,2000], \n",
    "             \"min_samples_split\":[2,3,5,10,15,20,50,80,100]}"
   ]
  },
  {
   "cell_type": "code",
   "execution_count": null,
   "id": "473884f3-305b-4753-a395-50a90fa7c418",
   "metadata": {
    "tags": []
   },
   "outputs": [],
   "source": [
    "rf_cv_model = GridSearchCV(rf_model, rf_params , \n",
    "                           cv = 10, n_jobs = 8 , verbose = 2).fit(X_train,y_train)"
   ]
  },
  {
   "cell_type": "code",
   "execution_count": null,
   "id": "bce009c1-5fed-454f-a6c8-fd222c1c5811",
   "metadata": {
    "scrolled": true,
    "tags": []
   },
   "outputs": [],
   "source": [
    "rf_cv_model.best_params_"
   ]
  },
  {
   "cell_type": "code",
   "execution_count": 10,
   "id": "ce14bba7-6d9e-46d6-9138-eb976a90dbb9",
   "metadata": {
    "jupyter": {
     "outputs_hidden": true
    },
    "tags": []
   },
   "outputs": [],
   "source": [
    "rf_tuned = RandomForestRegressor(max_depth = 15 , max_features = 5, \n",
    "                                 min_samples_split = 3 , n_estimators = 400).fit(X_train , y_train)"
   ]
  },
  {
   "cell_type": "code",
   "execution_count": 11,
   "id": "2ecbefcd-4c6b-4c77-9ce6-810a911218ec",
   "metadata": {
    "tags": []
   },
   "outputs": [],
   "source": [
    "y_pred = rf_tuned.predict(X_test)"
   ]
  },
  {
   "cell_type": "code",
   "execution_count": 12,
   "id": "a999c450-e4c1-48b1-be65-f75b0409c667",
   "metadata": {},
   "outputs": [
    {
     "data": {
      "text/plain": [
       "0.0"
      ]
     },
     "execution_count": 12,
     "metadata": {},
     "output_type": "execute_result"
    }
   ],
   "source": [
    "min(y_pred)"
   ]
  },
  {
   "cell_type": "code",
   "execution_count": 13,
   "id": "bf3ebc82-5c15-4f12-82d2-f7fbe088ae1d",
   "metadata": {
    "scrolled": true
   },
   "outputs": [
    {
     "data": {
      "text/plain": [
       "0.9753929539295393"
      ]
     },
     "execution_count": 13,
     "metadata": {},
     "output_type": "execute_result"
    }
   ],
   "source": [
    "accuracy_score(y_test, np.rint(y_pred))"
   ]
  },
  {
   "cell_type": "code",
   "execution_count": 14,
   "id": "585806c3",
   "metadata": {},
   "outputs": [],
   "source": [
    "y_test_80 = labels_80[y_test.index]"
   ]
  },
  {
   "cell_type": "code",
   "execution_count": 15,
   "id": "2cf4e117",
   "metadata": {},
   "outputs": [
    {
     "data": {
      "text/plain": [
       "0.8662330623306234"
      ]
     },
     "execution_count": 15,
     "metadata": {},
     "output_type": "execute_result"
    }
   ],
   "source": [
    "accuracy_score(y_test_80, np.rint(np.absolute(y_pred)))"
   ]
  },
  {
   "cell_type": "code",
   "execution_count": 16,
   "id": "e33fdd9d-0f5e-4500-88fb-0e4d9328d094",
   "metadata": {},
   "outputs": [
    {
     "data": {
      "text/plain": [
       "array([[7267,   94],\n",
       "       [ 133, 1731]])"
      ]
     },
     "execution_count": 16,
     "metadata": {},
     "output_type": "execute_result"
    }
   ],
   "source": [
    "confusion_matrix(y_test, np.rint(y_pred))"
   ]
  },
  {
   "cell_type": "code",
   "execution_count": 17,
   "id": "e9f2a6c0",
   "metadata": {},
   "outputs": [
    {
     "data": {
      "text/plain": [
       "array([[7392, 1226],\n",
       "       [   8,  599]])"
      ]
     },
     "execution_count": 17,
     "metadata": {},
     "output_type": "execute_result"
    }
   ],
   "source": [
    "confusion_matrix(y_test_80, np.rint(np.absolute(y_pred)))"
   ]
  },
  {
   "cell_type": "code",
   "execution_count": 18,
   "id": "45d90cab-3651-41f4-ace7-20b8e424abdf",
   "metadata": {},
   "outputs": [
    {
     "data": {
      "image/png": "[encoded data removed]",
      "text/plain": [
       "<Figure size 640x480 with 1 Axes>"
      ]
     },
     "metadata": {},
     "output_type": "display_data"
    }
   ],
   "source": [
    "import seaborn as sns\n",
    "\n",
    "feature_imp = pd.Series(rf_tuned.feature_importances_,\n",
    "                        index=X_train.columns).sort_values(ascending=False)\n",
    "\n",
    "sns.barplot(x=feature_imp, y=feature_imp.index)\n",
    "plt.xlabel('Feature Importances')\n",
    "plt.ylabel('Features')\n",
    "plt.title(\"Feature Importances (RandomForest)\")\n",
    "plt.show()"
   ]
  },
  {
   "cell_type": "code",
   "execution_count": 19,
   "id": "7a95c2de-7ca9-4948-b435-d395c53ce659",
   "metadata": {
    "tags": []
   },
   "outputs": [
    {
     "data": {
      "image/png": "[encoded data removed]",
      "text/plain": [
       "<Figure size 640x480 with 1 Axes>"
      ]
     },
     "metadata": {},
     "output_type": "display_data"
    }
   ],
   "source": [
    "logit_roc_auc = roc_auc_score(y_test, np.rint(np.absolute(rf_tuned.predict(X_test))))\n",
    "fpr, tpr, thresholds = roc_curve(y_test, np.absolute(rf_tuned.predict(X_test)))\n",
    "plt.figure()\n",
    "plt.plot(fpr, tpr, label='AUC (area = %0.2f)' % logit_roc_auc)\n",
    "plt.plot([0, 1], [0, 1],'r--')\n",
    "plt.xlim([0.0, 1.0])\n",
    "plt.ylim([0.0, 1.05])\n",
    "plt.xlabel('False Positive Rate')\n",
    "plt.ylabel('True Positive Rate')\n",
    "plt.title('ROC Curve')\n",
    "plt.legend(loc=\"lower right\")\n",
    "plt.savefig('Log_ROC')\n",
    "plt.show()"
   ]
  },
  {
   "cell_type": "code",
   "execution_count": 20,
   "id": "9f32fef3",
   "metadata": {},
   "outputs": [
    {
     "data": {
      "image/png": "[encoded data removed]",
      "text/plain": [
       "<Figure size 640x480 with 1 Axes>"
      ]
     },
     "metadata": {},
     "output_type": "display_data"
    }
   ],
   "source": [
    "logit_roc_auc_80 = roc_auc_score(y_test_80, np.rint(np.absolute(y_pred)))\n",
    "fpr_80, tpr_80, thresholds_80 = roc_curve(y_test_80, np.absolute(y_pred))\n",
    "plt.figure()\n",
    "plt.plot(fpr, tpr, label='AUC (area = %0.2f)' % logit_roc_auc_80)\n",
    "plt.plot([0, 1], [0, 1],'r--')\n",
    "plt.xlim([0.0, 1.0])\n",
    "plt.ylim([0.0, 1.05])\n",
    "plt.xlabel('False Positive Rate')\n",
    "plt.ylabel('True Positive Rate')\n",
    "plt.title('ROC Curve (Above 0.8)')\n",
    "plt.legend(loc=\"lower right\")\n",
    "plt.savefig('Log_ROC')\n",
    "plt.show()"
   ]
  },
  {
   "cell_type": "code",
   "execution_count": 21,
   "id": "cd889b85-3300-4363-847d-0a4450b7bf76",
   "metadata": {},
   "outputs": [
    {
     "data": {
      "text/plain": [
       "0.22269511286702798"
      ]
     },
     "execution_count": 21,
     "metadata": {},
     "output_type": "execute_result"
    }
   ],
   "source": [
    "thresholds[np.argmax(tpr - fpr)]"
   ]
  },
  {
   "cell_type": "code",
   "execution_count": 22,
   "id": "ffd70dde",
   "metadata": {},
   "outputs": [
    {
     "data": {
      "text/plain": [
       "0.8605687058153348"
      ]
     },
     "execution_count": 22,
     "metadata": {},
     "output_type": "execute_result"
    }
   ],
   "source": [
    "thresholds_80[np.argmax((tpr_80) - (fpr_80))]"
   ]
  },
  {
   "cell_type": "code",
   "execution_count": 23,
   "id": "6716cb86-b0eb-4dbb-b3db-dc19db08e9f1",
   "metadata": {},
   "outputs": [],
   "source": [
    "y_pred_corrected = (rf_tuned.predict(X_test) >= thresholds[np.argmax(tpr - fpr)]).astype(bool)"
   ]
  },
  {
   "cell_type": "code",
   "execution_count": 24,
   "id": "2aee49e0-ebdc-4119-a8da-cb8df8e377d4",
   "metadata": {},
   "outputs": [
    {
     "data": {
      "text/plain": [
       "0.971490514905149"
      ]
     },
     "execution_count": 24,
     "metadata": {},
     "output_type": "execute_result"
    }
   ],
   "source": [
    "accuracy_score(y_test, y_pred_corrected)"
   ]
  },
  {
   "cell_type": "code",
   "execution_count": 25,
   "id": "ba2315f7-e648-418d-a58a-681387efdd65",
   "metadata": {},
   "outputs": [
    {
     "data": {
      "text/plain": [
       "array([[7144,  217],\n",
       "       [  46, 1818]])"
      ]
     },
     "execution_count": 25,
     "metadata": {},
     "output_type": "execute_result"
    }
   ],
   "source": [
    "confusion_matrix(y_test, y_pred_corrected)"
   ]
  },
  {
   "cell_type": "code",
   "execution_count": null,
   "id": "ba6aae0f",
   "metadata": {},
   "outputs": [],
   "source": [
    "logit_roc_auc = roc_auc_score(y_test, rf_tuned.predict(X_test) >= thresholds[np.argmax(tpr - fpr)]).astype(bool)\n",
    "fpr, tpr, thresholds = roc_curve(y_test, np.absolute(y_pred))\n",
    "plt.figure()\n",
    "plt.plot(fpr, tpr, label='AUC (area = %0.2f)' % logit_roc_auc)\n",
    "plt.plot([0, 1], [0, 1],'r--')\n",
    "plt.xlim([0.0, 1.0])\n",
    "plt.ylim([0.0, 1.05])\n",
    "plt.xlabel('False Positive Rate')\n",
    "plt.ylabel('True Positive Rate')\n",
    "plt.title('ROC Curve')\n",
    "plt.legend(loc=\"lower right\")\n",
    "plt.savefig('Log_ROC')\n",
    "plt.show()"
   ]
  },
  {
   "cell_type": "code",
   "execution_count": 28,
   "id": "47963529-040c-4b54-992b-dcdaf87ffe7b",
   "metadata": {},
   "outputs": [],
   "source": [
    "import pickle"
   ]
  },
  {
   "cell_type": "code",
   "execution_count": 29,
   "id": "8d57d490-eb7b-4dff-981f-b854470019da",
   "metadata": {
    "tags": []
   },
   "outputs": [],
   "source": [
    "filename = 'rf_model_65.sav'\n",
    "pickle.dump(rf_tuned, open(filename, 'wb'))"
   ]
  }
 ],
 "metadata": {
  "kernelspec": {
   "display_name": "Python 3",
   "language": "python",
   "name": "python3"
  },
  "language_info": {
   "codemirror_mode": {
    "name": "ipython",
    "version": 3
   },
   "file_extension": ".py",
   "mimetype": "text/x-python",
   "name": "python",
   "nbconvert_exporter": "python",
   "pygments_lexer": "ipython3",
   "version": "3.8.11"
  }
 },
 "nbformat": 4,
 "nbformat_minor": 5
}
