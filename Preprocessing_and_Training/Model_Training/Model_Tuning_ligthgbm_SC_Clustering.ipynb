{
 "cells": [
  {
   "cell_type": "markdown",
   "id": "b75e3484",
   "metadata": {},
   "source": [
    "# Machine Learning Model Construction for Single Cell RNA-Seq Clustering Parameter Evaluation Results"
   ]
  },
  {
   "cell_type": "markdown",
   "id": "a7b94a47",
   "metadata": {},
   "source": [
    "## Method"
   ]
  },
  {
   "cell_type": "markdown",
   "id": "15293a01",
   "metadata": {},
   "source": [
    "Tabula Muris Droplet, Tabula Muris Spike and Zhengmix datasets were downloaded using R/Bioconductor. Datasets are preprocessed using **scran**. For each dataset, *Shared Nearest Neighbour* based graph construction and graph clustering using 3 popular algorithms, Walktrap, Louvain and Leiden algorithms from **igraph** package.\n",
    "SNN graphs for each dataset with *number of neighbours* parameter from 1 to 50, Highly Variant Genes as 500, 1000, 1500 and 2000 were constructed. *DenoisePCA* function from scran package is used for PCA. Adjusted Rand Index used for clustering comparison with cell labels. Clusterings with ARI higher than 0.65 are labelled as accepted."
   ]
  },
  {
   "cell_type": "markdown",
   "id": "64907ab5",
   "metadata": {},
   "source": [
    "### Applying Machine Learning Algorithms to build a model and show importances of parameters"
   ]
  },
  {
   "cell_type": "markdown",
   "id": "b7ac4226",
   "metadata": {},
   "source": [
    "#### Required Packages"
   ]
  },
  {
   "cell_type": "code",
   "execution_count": 1,
   "id": "79785fee",
   "metadata": {},
   "outputs": [],
   "source": [
    "import numpy as np\n",
    "import pandas as pd\n",
    "from lazypredict.Supervised import LazyClassifier\n",
    "from sklearn.model_selection import train_test_split\n",
    "import lightgbm\n",
    "from lightgbm import LGBMClassifier\n",
    "import matplotlib.pyplot as plt\n",
    "from sklearn.linear_model import LogisticRegression\n",
    "from sklearn.metrics import confusion_matrix, accuracy_score, mean_squared_error, r2_score, roc_auc_score, roc_curve, classification_report\n",
    "from sklearn.model_selection import train_test_split, GridSearchCV, cross_val_score"
   ]
  },
  {
   "cell_type": "markdown",
   "id": "b1f01c07",
   "metadata": {},
   "source": [
    "#### Data Import (Preprocessed using R)"
   ]
  },
  {
   "cell_type": "code",
   "execution_count": 2,
   "id": "471704ea",
   "metadata": {},
   "outputs": [],
   "source": [
    "encoded_results = pd.read_csv(\"encoded_dataset.txt\" , sep = \"\\t\")"
   ]
  },
  {
   "cell_type": "code",
   "execution_count": 3,
   "id": "c5d44df8",
   "metadata": {
    "scrolled": false
   },
   "outputs": [
    {
     "data": {
      "text/html": [
       "<div>\n",
       "<style scoped>\n",
       "    .dataframe tbody tr th:only-of-type {\n",
       "        vertical-align: middle;\n",
       "    }\n",
       "\n",
       "    .dataframe tbody tr th {\n",
       "        vertical-align: top;\n",
       "    }\n",
       "\n",
       "    .dataframe thead th {\n",
       "        text-align: right;\n",
       "    }\n",
       "</style>\n",
       "<table border=\"1\" class=\"dataframe\">\n",
       "  <thead>\n",
       "    <tr style=\"text-align: right;\">\n",
       "      <th></th>\n",
       "      <th>Number_of_Neighbours</th>\n",
       "      <th>Number_of_PCs</th>\n",
       "      <th>Number_of_Cells</th>\n",
       "      <th>Number_of_HVGs</th>\n",
       "      <th>AlgorithmLeiden</th>\n",
       "      <th>AlgorithmLouvain</th>\n",
       "      <th>AlgorithmWalktrap</th>\n",
       "      <th>Exp_TypeDroplet</th>\n",
       "      <th>acceptable_ari</th>\n",
       "    </tr>\n",
       "  </thead>\n",
       "  <tbody>\n",
       "    <tr>\n",
       "      <th>0</th>\n",
       "      <td>1</td>\n",
       "      <td>15</td>\n",
       "      <td>2500</td>\n",
       "      <td>500</td>\n",
       "      <td>0</td>\n",
       "      <td>0</td>\n",
       "      <td>1</td>\n",
       "      <td>1</td>\n",
       "      <td>0</td>\n",
       "    </tr>\n",
       "    <tr>\n",
       "      <th>1</th>\n",
       "      <td>2</td>\n",
       "      <td>15</td>\n",
       "      <td>2500</td>\n",
       "      <td>500</td>\n",
       "      <td>0</td>\n",
       "      <td>0</td>\n",
       "      <td>1</td>\n",
       "      <td>1</td>\n",
       "      <td>0</td>\n",
       "    </tr>\n",
       "    <tr>\n",
       "      <th>2</th>\n",
       "      <td>3</td>\n",
       "      <td>15</td>\n",
       "      <td>2500</td>\n",
       "      <td>500</td>\n",
       "      <td>0</td>\n",
       "      <td>0</td>\n",
       "      <td>1</td>\n",
       "      <td>1</td>\n",
       "      <td>0</td>\n",
       "    </tr>\n",
       "    <tr>\n",
       "      <th>3</th>\n",
       "      <td>4</td>\n",
       "      <td>15</td>\n",
       "      <td>2500</td>\n",
       "      <td>500</td>\n",
       "      <td>0</td>\n",
       "      <td>0</td>\n",
       "      <td>1</td>\n",
       "      <td>1</td>\n",
       "      <td>0</td>\n",
       "    </tr>\n",
       "    <tr>\n",
       "      <th>4</th>\n",
       "      <td>5</td>\n",
       "      <td>15</td>\n",
       "      <td>2500</td>\n",
       "      <td>500</td>\n",
       "      <td>0</td>\n",
       "      <td>0</td>\n",
       "      <td>1</td>\n",
       "      <td>1</td>\n",
       "      <td>0</td>\n",
       "    </tr>\n",
       "  </tbody>\n",
       "</table>\n",
       "</div>"
      ],
      "text/plain": [
       "   Number_of_Neighbours  Number_of_PCs  Number_of_Cells  Number_of_HVGs  \\\n",
       "0                     1             15             2500             500   \n",
       "1                     2             15             2500             500   \n",
       "2                     3             15             2500             500   \n",
       "3                     4             15             2500             500   \n",
       "4                     5             15             2500             500   \n",
       "\n",
       "   AlgorithmLeiden  AlgorithmLouvain  AlgorithmWalktrap  Exp_TypeDroplet  \\\n",
       "0                0                 0                  1                1   \n",
       "1                0                 0                  1                1   \n",
       "2                0                 0                  1                1   \n",
       "3                0                 0                  1                1   \n",
       "4                0                 0                  1                1   \n",
       "\n",
       "   acceptable_ari  \n",
       "0               0  \n",
       "1               0  \n",
       "2               0  \n",
       "3               0  \n",
       "4               0  "
      ]
     },
     "execution_count": 3,
     "metadata": {},
     "output_type": "execute_result"
    }
   ],
   "source": [
    "encoded_results.head()"
   ]
  },
  {
   "cell_type": "code",
   "execution_count": 4,
   "id": "90c4ffbc",
   "metadata": {},
   "outputs": [],
   "source": [
    "labels = encoded_results[\"acceptable_ari\"]"
   ]
  },
  {
   "cell_type": "code",
   "execution_count": 5,
   "id": "cb21aae1",
   "metadata": {},
   "outputs": [],
   "source": [
    "features = encoded_results.drop([\"acceptable_ari\"] , axis = 1)"
   ]
  },
  {
   "cell_type": "code",
   "execution_count": 6,
   "id": "9ac23417",
   "metadata": {},
   "outputs": [],
   "source": [
    "X_train, X_test, y_train, y_test = train_test_split(features, labels ,test_size=.25,random_state = 8764)"
   ]
  },
  {
   "cell_type": "code",
   "execution_count": 7,
   "id": "dcb5de39",
   "metadata": {},
   "outputs": [
    {
     "data": {
      "text/plain": [
       "2781"
      ]
     },
     "execution_count": 7,
     "metadata": {},
     "output_type": "execute_result"
    }
   ],
   "source": [
    "y_train.sum()"
   ]
  },
  {
   "cell_type": "code",
   "execution_count": 8,
   "id": "3b4605c9",
   "metadata": {},
   "outputs": [
    {
     "data": {
      "text/plain": [
       "919"
      ]
     },
     "execution_count": 8,
     "metadata": {},
     "output_type": "execute_result"
    }
   ],
   "source": [
    "y_test.sum()"
   ]
  },
  {
   "cell_type": "markdown",
   "id": "372bdb90",
   "metadata": {},
   "source": [
    "#### LightGBM Algorithm"
   ]
  },
  {
   "cell_type": "code",
   "execution_count": 9,
   "id": "7b862f5a",
   "metadata": {},
   "outputs": [],
   "source": [
    "lgbm = LGBMClassifier()"
   ]
  },
  {
   "cell_type": "code",
   "execution_count": 10,
   "id": "a10d744f",
   "metadata": {},
   "outputs": [],
   "source": [
    "lgbm_params = {\"learning_rate\" : [0.001 , 0.01 , 0.1 , 0.5] , \"n_estimators\" : [200,500,100,1000] , \n",
    "               \"max_depth\" : [1,2,3,5,8,10] , \"num_leaves\" : [10,20,25,30,35]}"
   ]
  },
  {
   "cell_type": "code",
   "execution_count": 11,
   "id": "c62cc41c",
   "metadata": {
    "jupyter": {
     "outputs_hidden": true
    }
   },
   "outputs": [
    {
     "name": "stdout",
     "output_type": "stream",
     "text": [
      "Fitting 5 folds for each of 480 candidates, totalling 2400 fits\n"
     ]
    }
   ],
   "source": [
    "lgbm_cv_model = GridSearchCV(lgbm, lgbm_params, \n",
    "                             cv = 5, n_jobs = -1, verbose = 2).fit(X_train, y_train)"
   ]
  },
  {
   "cell_type": "code",
   "execution_count": 13,
   "id": "fb90d3e9",
   "metadata": {
    "scrolled": true
   },
   "outputs": [
    {
     "data": {
      "text/plain": [
       "{'learning_rate': 0.1, 'max_depth': 10, 'n_estimators': 200, 'num_leaves': 25}"
      ]
     },
     "execution_count": 13,
     "metadata": {},
     "output_type": "execute_result"
    }
   ],
   "source": [
    "lgbm_cv_model.best_params_"
   ]
  },
  {
   "cell_type": "code",
   "execution_count": 15,
   "id": "a7eb6301",
   "metadata": {
    "jupyter": {
     "outputs_hidden": true
    }
   },
   "outputs": [],
   "source": [
    "lgbm_tuned = LGBMClassifier(learning_rate= 0.1, \n",
    "                                max_depth= 10, \n",
    "                                n_estimators= 200 , num_leaves = 25).fit(X_train, y_train)"
   ]
  },
  {
   "cell_type": "code",
   "execution_count": 16,
   "id": "d88ebf09",
   "metadata": {},
   "outputs": [],
   "source": [
    "y_pred = lgbm_tuned.predict(X_test)"
   ]
  },
  {
   "cell_type": "code",
   "execution_count": 17,
   "id": "ce873270",
   "metadata": {
    "scrolled": true
   },
   "outputs": [
    {
     "data": {
      "text/plain": [
       "0.9737373737373738"
      ]
     },
     "execution_count": 17,
     "metadata": {},
     "output_type": "execute_result"
    }
   ],
   "source": [
    "accuracy_score(y_test, y_pred)"
   ]
  },
  {
   "cell_type": "code",
   "execution_count": 18,
   "id": "11b2f5d3",
   "metadata": {
    "scrolled": false
   },
   "outputs": [
    {
     "data": {
      "image/png": "[encoded data removed]",
      "text/plain": [
       "<Figure size 640x480 with 1 Axes>"
      ]
     },
     "metadata": {},
     "output_type": "display_data"
    }
   ],
   "source": [
    "import seaborn as sns\n",
    "\n",
    "feature_imp = pd.Series(lgbm_tuned.feature_importances_,\n",
    "                        index=X_train.columns).sort_values(ascending=False)\n",
    "\n",
    "sns.barplot(x=feature_imp, y=feature_imp.index)\n",
    "plt.xlabel('Feature Importances')\n",
    "plt.ylabel('Features')\n",
    "plt.title(\"Feature Importances (LightGBM)\")\n",
    "plt.show()"
   ]
  },
  {
   "cell_type": "code",
   "execution_count": 19,
   "id": "4739a236",
   "metadata": {},
   "outputs": [
    {
     "data": {
      "image/png": "[encoded data removed]",
      "text/plain": [
       "<Figure size 640x480 with 1 Axes>"
      ]
     },
     "metadata": {},
     "output_type": "display_data"
    }
   ],
   "source": [
    "logit_roc_auc = roc_auc_score(y_test, lgbm_tuned.predict(X_test))\n",
    "fpr, tpr, thresholds = roc_curve(y_test, lgbm_tuned.predict_proba(X_test)[:,1])\n",
    "plt.figure()\n",
    "plt.plot(fpr, tpr, label='AUC (area = %0.2f)' % logit_roc_auc)\n",
    "plt.plot([0, 1], [0, 1],'r--')\n",
    "plt.xlim([0.0, 1.0])\n",
    "plt.ylim([0.0, 1.05])\n",
    "plt.xlabel('False Positive Rate')\n",
    "plt.ylabel('True Positive Rate')\n",
    "plt.title('ROC Curve')\n",
    "plt.legend(loc=\"lower right\")\n",
    "plt.savefig('Log_ROC')\n",
    "plt.show()"
   ]
  }
 ],
 "metadata": {
  "kernelspec": {
   "display_name": "Python 3",
   "language": "python",
   "name": "python3"
  },
  "language_info": {
   "codemirror_mode": {
    "name": "ipython",
    "version": 3
   },
   "file_extension": ".py",
   "mimetype": "text/x-python",
   "name": "python",
   "nbconvert_exporter": "python",
   "pygments_lexer": "ipython3",
   "version": "3.8.11"
  }
 },
 "nbformat": 4,
 "nbformat_minor": 5
}
